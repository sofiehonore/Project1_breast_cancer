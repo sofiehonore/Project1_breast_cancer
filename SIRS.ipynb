{
 "cells": [
  {
   "cell_type": "code",
   "execution_count": 2,
   "metadata": {},
   "outputs": [],
   "source": [
    "# Initialization\n",
    "import numpy as np\n",
    "import matplotlib.pyplot as plt\n",
    "import scipy.stats as stats"
   ]
  },
  {
   "cell_type": "code",
   "execution_count": 1,
   "metadata": {},
   "outputs": [
    {
     "ename": "NameError",
     "evalue": "name 'np' is not defined",
     "output_type": "error",
     "traceback": [
      "\u001b[0;31m---------------------------------------------------------------------------\u001b[0m",
      "\u001b[0;31mNameError\u001b[0m                                 Traceback (most recent call last)",
      "\u001b[0;32m<ipython-input-1-434369866a98>\u001b[0m in \u001b[0;36m<module>\u001b[0;34m\u001b[0m\n\u001b[1;32m      2\u001b[0m \u001b[0;34m\u001b[0m\u001b[0m\n\u001b[1;32m      3\u001b[0m \u001b[0;31m# Vector of states\u001b[0m\u001b[0;34m\u001b[0m\u001b[0;34m\u001b[0m\u001b[0;34m\u001b[0m\u001b[0m\n\u001b[0;32m----> 4\u001b[0;31m \u001b[0mstates\u001b[0m \u001b[0;34m=\u001b[0m \u001b[0mnp\u001b[0m\u001b[0;34m.\u001b[0m\u001b[0mrepeat\u001b[0m\u001b[0;34m(\u001b[0m\u001b[0;34m\"S\"\u001b[0m\u001b[0;34m,\u001b[0m\u001b[0mn\u001b[0m\u001b[0;34m)\u001b[0m\u001b[0;34m\u001b[0m\u001b[0;34m\u001b[0m\u001b[0m\n\u001b[0m\u001b[1;32m      5\u001b[0m \u001b[0mstates\u001b[0m\u001b[0;34m[\u001b[0m\u001b[0;36m0\u001b[0m\u001b[0;34m]\u001b[0m \u001b[0;34m=\u001b[0m \u001b[0;34m\"I\"\u001b[0m\u001b[0;34m\u001b[0m\u001b[0;34m\u001b[0m\u001b[0m\n\u001b[1;32m      6\u001b[0m \u001b[0;34m\u001b[0m\u001b[0m\n",
      "\u001b[0;31mNameError\u001b[0m: name 'np' is not defined"
     ]
    }
   ],
   "source": [
    "n = 1000\n",
    "\n",
    "# Vector of states\n",
    "states = np.repeat(\"S\",n)\n",
    "states[0] = \"I\"\n",
    "\n",
    "# Probabilities of entering \n",
    "prob_S_I = 0.9\n",
    "prob_I_R = 0.3\n",
    "prob_R_S = 0.015\n",
    "\n",
    "n_S = np.array([len(np.where(states == \"S\")[0])])\n",
    "n_I = np.array([len(np.where(states == \"I\")[0])])\n",
    "n_R = np.array([len(np.where(states == \"R\")[0])])\n",
    "\n",
    "\n",
    "while \"I\" in states:\n",
    "    \n",
    "    # Get positions of S, I, R\n",
    "    S_index = np.where(states == \"S\")[0]\n",
    "    I_index = np.where(states == \"I\")[0]\n",
    "    R_index = np.where(states == \"R\")[0]\n",
    "\n",
    "    # Update susceptible\n",
    "    prob_S_I_t = prob_S_I * len(I_index)/n\n",
    "    states[S_index] = np.random.choice(np.array([\"S\",\"I\"]),p = np.array([1-prob_S_I_t, prob_S_I_t]), size = len(S_index))\n",
    "\n",
    "\n",
    "    # Update infected\n",
    "    states[I_index] = np.random.choice(np.array([\"I\", \"R\"]),p = np.array([1-prob_I_R, prob_I_R]), size = len(I_index))\n",
    "\n",
    "\n",
    "    # Update recovered\n",
    "    states[R_index] = np.random.choice(np.array([\"R\", \"S\"]),p = np.array([1-prob_R_S, prob_R_S]), size = len(R_index))\n",
    "\n",
    "    \n",
    "    n_S = np.concatenate([n_S, np.array([len(np.where(states == \"S\")[0])])])\n",
    "    n_I = np.concatenate([n_I, np.array([len(np.where(states == \"I\")[0])])])\n",
    "    n_R = np.concatenate([n_R, np.array([len(np.where(states == \"R\")[0])])])"
   ]
  },
  {
   "cell_type": "code",
   "execution_count": null,
   "metadata": {},
   "outputs": [],
   "source": [
    "#print(states)\n",
    "#print(n_S)\n",
    "#print(n_I)\n",
    "#print(n_R)\n",
    "\n",
    "plt.figure()\n",
    "plt.plot(n_S, \"-b\", label = \"Susceptible\")\n",
    "plt.plot(n_I, \"-r\", label = \"Infected\")\n",
    "plt.plot(n_R, \"-g\", label = \"Recovered\")\n",
    "plt.ylabel(\"Number of people\")\n",
    "plt.xlabel(\"Days\")\n",
    "plt.legend()\n",
    "plt.show()\n",
    "\n",
    "print(\"Maximum number of infected: \", max(n_I))"
   ]
  }
 ],
 "metadata": {
  "kernelspec": {
   "display_name": "Python 3",
   "language": "python",
   "name": "python3"
  },
  "language_info": {
   "codemirror_mode": {
    "name": "ipython",
    "version": 3
   },
   "file_extension": ".py",
   "mimetype": "text/x-python",
   "name": "python",
   "nbconvert_exporter": "python",
   "pygments_lexer": "ipython3",
   "version": "3.8.5"
  }
 },
 "nbformat": 4,
 "nbformat_minor": 4
}
