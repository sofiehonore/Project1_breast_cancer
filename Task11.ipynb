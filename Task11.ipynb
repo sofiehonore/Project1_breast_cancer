{
 "cells": [
  {
   "cell_type": "markdown",
   "metadata": {},
   "source": [
    "## Eliminated assumptions and model extenstions\n",
    "By going from a discrete model to a continuous model, we have eliminated the assumption that the transitions between cancer states only happens once a month. In this model, we draw the time a woman will remain in a particular state from an exponential distribution, thus not limiting this period to be evaluated once every month. Thus, the continuous model is more realistic. \n",
    "\n",
    "We still work with the one step memory assumption, i.e. that the current state only depends on the previous, and not also on e.g. the time spend in the given state, patient history etc. We also still see lifetimes above 100 years, which seems unrealistic as breast cancer initially develops in adult women (it's extremely rare for age < 25), i.e. according to the simulation some women live for more than 125 years. This means that we in the simulation still assume that women only die of cancer, not of high age.\n",
    "\n",
    "We have added an assumption that the times women spend in the different states can all be drawn from an exponential distribution, which is not necessarily true. The model could be extended with Erlang distributed sojourn times. This could be achieved by summing n exponential random variables of common rates."
   ]
  }
 ],
 "metadata": {
  "kernelspec": {
   "display_name": "Python 3",
   "language": "python",
   "name": "python3"
  },
  "language_info": {
   "codemirror_mode": {
    "name": "ipython",
    "version": 3
   },
   "file_extension": ".py",
   "mimetype": "text/x-python",
   "name": "python",
   "nbconvert_exporter": "python",
   "pygments_lexer": "ipython3",
   "version": "3.8.8"
  }
 },
 "nbformat": 4,
 "nbformat_minor": 2
}
