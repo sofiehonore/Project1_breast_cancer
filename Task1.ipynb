{
 "cells": [
  {
   "cell_type": "markdown",
   "metadata": {},
   "source": [
    "# Discrete Time Model Simulating Breast Cancer States"
   ]
  },
  {
   "cell_type": "markdown",
   "metadata": {},
   "source": [
    "## Introduction"
   ]
  },
  {
   "cell_type": "code",
   "execution_count": 2,
   "metadata": {},
   "outputs": [],
   "source": [
    "# Initialization\n",
    "import numpy as np\n",
    "import matplotlib.pyplot as plt\n",
    "import scipy.stats as stats"
   ]
  },
  {
   "cell_type": "code",
   "execution_count": 56,
   "metadata": {},
   "outputs": [],
   "source": [
    "P = np.array([[0.9915, 0.005, 0.0025, 0, 0.001],\n",
    "              [0, 0.986, 0.005, 0.004, 0.005], \n",
    "              [0, 0, 0.992, 0.003, 0.005],\n",
    "              [0, 0, 0, 0.991, 0.009],\n",
    "              [0, 0, 0, 0, 1]])\n",
    "\n",
    "max_state = 5\n",
    "n_women = 1000\n",
    "women_states = np.ones(n_women)\n",
    "lifetime = np.zeros(n_women)\n",
    "states = np.arange(1,max_state+1)\n",
    "\n",
    "# Run until max_state is reached for all individuals\n",
    "while np.min(women_states) < max_state:\n",
    "    \n",
    "    # Make temporary vector with women's states\n",
    "    new_women_states = women_states\n",
    "    \n",
    "    # Update states\n",
    "    for i in range(1, int(np.max(women_states)) + 1):\n",
    "        index_state = np.where(women_states == i)[0]\n",
    "        new_women_states[index_state] = np.random.choice(states, size = len(index_state), p = P[i-1,:])\n",
    "    women_states = new_women_states\n",
    "    \n",
    "    # Update liftime\n",
    "    index_lifetime = np.where(women_states < max_state)[0]\n",
    "    lifetime[index_lifetime] += 1\n",
    "    \n",
    "    #print(\"State:\\t\\t\", women_states, )\n",
    "    #print(\"Lifetime:\\t\",lifetime)\n",
    "    #print(\"\\n\")"
   ]
  },
  {
   "cell_type": "code",
   "execution_count": 67,
   "metadata": {},
   "outputs": [
    {
     "data": {
      "image/png": "[encoded data removed]",
      "text/plain": [
       "<Figure size 432x288 with 1 Axes>"
      ]
     },
     "metadata": {
      "needs_background": "light"
     },
     "output_type": "display_data"
    }
   ],
   "source": [
    "# Plot histogram of lifetime\n",
    "plt.figure()\n",
    "plt.hist(lifetime, bins = 100)\n",
    "plt.title(\"Lifetime Distribution\")\n",
    "plt.xlabel(\"Months after surgery\")\n",
    "plt.ylabel(\"\")\n",
    "plt.show()"
   ]
  },
  {
   "cell_type": "code",
   "execution_count": null,
   "metadata": {},
   "outputs": [],
   "source": []
  }
 ],
 "metadata": {
  "kernelspec": {
   "display_name": "Python 3",
   "language": "python",
   "name": "python3"
  },
  "language_info": {
   "codemirror_mode": {
    "name": "ipython",
    "version": 3
   },
   "file_extension": ".py",
   "mimetype": "text/x-python",
   "name": "python",
   "nbconvert_exporter": "python",
   "pygments_lexer": "ipython3",
   "version": "3.8.5"
  }
 },
 "nbformat": 4,
 "nbformat_minor": 4
}
