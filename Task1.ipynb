{
 "cells": [
  {
   "cell_type": "markdown",
   "metadata": {},
   "source": [
    "# Discrete Time Model Simulating Breast Cancer States"
   ]
  },
  {
   "cell_type": "markdown",
   "metadata": {},
   "source": [
    "## Introduction"
   ]
  },
  {
   "cell_type": "code",
   "execution_count": 79,
   "metadata": {},
   "outputs": [],
   "source": [
    "# Initialization\n",
    "import numpy as np\n",
    "import matplotlib.pyplot as plt\n",
    "import scipy.stats as stats"
   ]
  },
  {
   "cell_type": "markdown",
   "metadata": {},
   "source": [
    "We have simulated a model following 1000 women after they have had a breast tumor removed. The women can be in the five different states described below.\\\n",
    "state 1: No reoccurence of cancer (initial state).\\\n",
    "state 2: Local reoccurence.\\\n",
    "state 3: Distant metastasis.\\\n",
    "state 4: Local reoccurence and distant metastasis.\\\n",
    "state 5: Death. \n",
    "\n",
    "Women can move forward through these states in any order (except going directly from 1 to 4), but they can not move back again. Death can occur from any state. The probabilities of moving between the different states are given in the P-matrix below. The simulation is terminated when all women have entered state 5. \n",
    "We assume that each time step is one month. \n",
    "\n",
    "The basic algorithm can be seen here:"
   ]
  },
  {
   "cell_type": "code",
   "execution_count": 29,
   "metadata": {},
   "outputs": [],
   "source": [
    "P = np.array([[0.9915, 0.005, 0.0025, 0, 0.001],\n",
    "              [0, 0.986, 0.005, 0.004, 0.005], \n",
    "              [0, 0, 0.992, 0.003, 0.005],\n",
    "              [0, 0, 0, 0.991, 0.009],\n",
    "              [0, 0, 0, 0, 1]])\n",
    "\n",
    "max_state = 5\n",
    "n_women = 1000\n",
    "women_states = np.ones(n_women)\n",
    "lifetime = np.zeros(n_women)\n",
    "states = np.arange(1,max_state+1)\n",
    "\n",
    "# Run until max_state is reached for all individuals\n",
    "while np.min(women_states) < max_state:\n",
    "    \n",
    "    # Make temporary vector with women's states\n",
    "    new_women_states = women_states\n",
    "    \n",
    "    # Update states\n",
    "    for i in range(1, int(np.max(women_states)) + 1):\n",
    "        index_state = np.where(women_states == i)[0]\n",
    "        new_women_states[index_state] = np.random.choice(states, size = len(index_state), p = P[i-1,:])\n",
    "    women_states = new_women_states\n",
    "    \n",
    "    # Update liftime\n",
    "    index_lifetime = np.where(women_states < max_state)[0]\n",
    "    lifetime[index_lifetime] += 1"
   ]
  },
  {
   "cell_type": "markdown",
   "metadata": {},
   "source": [
    "## Distribution of Lifetimes\n",
    "First, we have plotted a distribution of lifetimes. So, a distribution of the number of months the women have lived after the start of the simulation (their breast tumor removal). "
   ]
  },
  {
   "cell_type": "code",
   "execution_count": 47,
   "metadata": {},
   "outputs": [
    {
     "data": {
      "image/png": "[encoded data removed]",
      "text/plain": [
       "<Figure size 432x288 with 1 Axes>"
      ]
     },
     "metadata": {
      "needs_background": "light"
     },
     "output_type": "display_data"
    }
   ],
   "source": [
    "# Plot histogram of lifetime\n",
    "plt.figure()\n",
    "plt.hist(lifetime, bins = 100)\n",
    "plt.title(\"Lifetime Distribution\")\n",
    "plt.xlabel(\"Months after surgery\")\n",
    "plt.ylabel(\"\")\n",
    "plt.show()"
   ]
  },
  {
   "cell_type": "markdown",
   "metadata": {},
   "source": [
    "We see that most of the women die within 400 months = 33,33 years. However, a few women live > 1000 months = 83,33 years. This does not seem realistic as this corresponds to the average life expectancy of women in Denmark. So, the women who live > 1000 months after surgery actually live a whole lifetime after having had their breast tumor removed. This will be discussed further later."
   ]
  },
  {
   "cell_type": "markdown",
   "metadata": {},
   "source": [
    "## Proportion of Women with Local Reapperance\n",
    "Now, we want to find the proportion of women where the cancer reappears locally after their surgery. We define this as women who go through either state 2 or 4. However, if the same women move through both state 2 and 4, we will only count her once.\n",
    "To find these, we run the above algorithm where we count the number of women who go from state 1 to 2 or 4 and from state 3 to 4 (expect if they have earlier been in state 2). We don't count transitions from state 2 to 4 as the cancer has already reappeared in state 2 - and we therefore don't want to count them again if they also go through state 4. "
   ]
  },
  {
   "cell_type": "code",
   "execution_count": 77,
   "metadata": {},
   "outputs": [
    {
     "name": "stdout",
     "output_type": "stream",
     "text": [
      "Number of women where cancer has eventually reappeared locally:  652\n",
      "Proportion of women where cancer has eventually reappeared locally:  0.652\n"
     ]
    }
   ],
   "source": [
    "max_state = 5\n",
    "n_women = 1000\n",
    "women_states = np.ones(n_women)\n",
    "lifetime = np.zeros(n_women)\n",
    "states = np.arange(1,max_state+1)\n",
    "\n",
    "# Store number of women going to state 2 - or 4 (without having been in state 2 before)\n",
    "reappearance = 0\n",
    "\n",
    "# Store women going from state 1 to 2\n",
    "all_1_to_2 = np.array([])\n",
    "\n",
    "# Run until max_state is reached for all individuals\n",
    "while np.min(women_states) < max_state:\n",
    "    \n",
    "    # Make temporary vector with women's states\n",
    "    new_women_states = women_states\n",
    "    \n",
    "    # Update states\n",
    "    for i in range(1, int(np.max(women_states)) + 1):\n",
    "        index_state = np.where(women_states == i)[0]\n",
    "        new_women_states[index_state] = np.random.choice(states, size = len(index_state), p = P[i-1,:])\n",
    "        \n",
    "        # Count women going to state 2 or 4 in this time step\n",
    "        # From state 1 -> 2 or 1 -> 4\n",
    "        if i == 1: \n",
    "            index_1_to_2 = np.where(new_women_states[index_state] == 2)[0]\n",
    "            index_1_to_4 = np.where(new_women_states[index_state] == 4)[0]\n",
    "            \n",
    "            reappearance += len(index_1_to_2) + len(index_1_to_4)\n",
    "            \n",
    "            # Save who has gone from 1 to 2 - in order to not count them again if they go from to 4 afterwards\n",
    "            all_1_to_2 = np.append(all_1_to_2, index_1_to_2)\n",
    "        \n",
    "        # From state 3 -> 4\n",
    "        if i == 3:\n",
    "            index_3_to_4 = np.where(new_women_states[index_state] == 4)[0]\n",
    "            \n",
    "            index_3_to_4_old = list(set(index_3_to_4) & set(all_1_to_2))\n",
    "            \n",
    "            # Count only those who have not been counted before\n",
    "            reappearance += len(index_3_to_4) - len(index_3_to_4_old)\n",
    "\n",
    "    women_states = new_women_states\n",
    "    \n",
    "    # Update liftime\n",
    "    index_lifetime = np.where(women_states < max_state)[0]\n",
    "    lifetime[index_lifetime] += 1\n",
    "    \n",
    "print(\"Number of women where cancer has eventually reappeared locally: \", reappearance)\n",
    "print(\"Proportion of women where cancer has eventually reappeared locally: \", reappearance/n_women)"
   ]
  },
  {
   "cell_type": "markdown",
   "metadata": {},
   "source": [
    "In this run, the cancer eventually reappears locally for 65% of the women. "
   ]
  }
 ],
 "metadata": {
  "kernelspec": {
   "display_name": "Python 3",
   "language": "python",
   "name": "python3"
  },
  "language_info": {
   "codemirror_mode": {
    "name": "ipython",
    "version": 3
   },
   "file_extension": ".py",
   "mimetype": "text/x-python",
   "name": "python",
   "nbconvert_exporter": "python",
   "pygments_lexer": "ipython3",
   "version": "3.8.8"
  }
 },
 "nbformat": 4,
 "nbformat_minor": 4
}
