{
 "cells": [
  {
   "cell_type": "markdown",
   "metadata": {},
   "source": [
    "# Continuous Time Model Simulating Breast Cancer States"
   ]
  },
  {
   "cell_type": "markdown",
   "metadata": {},
   "source": [
    "## Introduction\n",
    "In order to make the model more realistic, it should be possible to transition from one state to another at any time. We therefore simulate a continuous Markov Chain Model with continuous time steps. Still, we simulate 1000 women, all beginning at state 1, and when all have reached state 5, the simulation ends. \n",
    "The following program also creates time series containing every womans state at every 48th months (Task 12) as well as calculates the number of women where the cancer have reappered distantly (state 3 or 4) before time step 30.5, and reports the proportion (Task 7). Here we assume, that if a woman has \"jumped\" from state 1 or 2 directly to state 5, she has not gone through state 3 or 4, and is therefore not included.  "
   ]
  },
  {
   "cell_type": "code",
   "execution_count": 1,
   "metadata": {},
   "outputs": [],
   "source": [
    "# Initialization\n",
    "import random\n",
    "import numpy as np\n",
    "import matplotlib.pyplot as plt\n",
    "import scipy.stats as stats\n",
    "import sys"
   ]
  },
  {
   "cell_type": "code",
   "execution_count": 2,
   "metadata": {},
   "outputs": [
    {
     "name": "stdout",
     "output_type": "stream",
     "text": [
      "Women that are/have been in state 3/4 when 30.5 months has passed: 9.3 %\n",
      "\n",
      "\n",
      "Time series with 1 row representing the development of 1 individual:\n",
      "[1. 2. 2. 4. 5. 5. 5.]\n",
      "[1. 1. 2. 5. 5. 5. 5.]\n",
      "[1. 3. 5. 5. 5. 5. 5.]\n",
      "[1. 3. 3. 3. 5. 5. 5.]\n",
      "[1. 1. 1. 1. 1. 5. 5.]\n",
      "[1. 3. 4. 4. 5. 5. 5.]\n",
      "[1. 1. 4. 4. 5. 5. 5.]\n",
      "[1. 1. 3. 5. 5. 5. 5.]\n",
      "[1. 1. 1. 5. 5. 5. 5.]\n",
      "[1. 1. 5. 5. 5. 5. 5.]\n",
      "...\n"
     ]
    }
   ],
   "source": [
    "Q = np.array([[-0.0085, 0.005, 0.0025, 0, 0.001],\n",
    "              [0, -0.014, 0.005, 0.004, 0.005], \n",
    "              [0, 0, -0.008, 0.003, 0.005],\n",
    "              [0, 0, 0, -0.009, 0.009],\n",
    "              [0, 0, 0, 0, 0]])\n",
    "\n",
    "max_state = 5\n",
    "n_women = 1000\n",
    "women_states = np.ones(n_women)\n",
    "time_series_states = np.ones(n_women)\n",
    "time_series_states_to_4 = np.ones(n_women)\n",
    "lifetime = np.zeros(n_women)\n",
    "states = np.arange(1,max_state+1)\n",
    "time_until_next_state = np.random.exponential(scale = 1/-Q[0][0], size = n_women)\n",
    "time_passed = 0\n",
    "counted_positions = np.array([])\n",
    "state_3_or_4_pos_count = 0\n",
    "\n",
    "# For examining proportions in specific state after specific time\n",
    "state_examination = 3\n",
    "months_examination = 30.5\n",
    "\n",
    "time_series_point = 48\n",
    "\n",
    "while np.min(women_states) < max_state:\n",
    "    \n",
    "    # Get women that are alive, meaning not in state 5\n",
    "    women_alive_index = np.where(women_states < 5)[0]\n",
    "\n",
    "    # Get minimum time until next state, only based on individuals alive\n",
    "    time_min = np.min(time_until_next_state[women_alive_index])\n",
    "    time_min_index = np.where((time_until_next_state == time_min))[0]\n",
    "    time_until_next_state[women_alive_index] = time_until_next_state[women_alive_index] - time_min\n",
    "\n",
    "    # Update states\n",
    "    for elem in time_min_index:\n",
    "        current_state = int(women_states[elem])\n",
    "        probs = -Q[current_state-1,current_state:]/Q[current_state-1,current_state-1]\n",
    "        new_state = np.random.choice(states[current_state:], p = probs)\n",
    "        women_states[elem] = new_state\n",
    "        \n",
    "        # Update time only if state is not 5\n",
    "        if new_state < 5: \n",
    "            time_until_next_state[elem] = np.random.exponential(scale = 1/-Q[new_state-1][new_state-1])\n",
    "\n",
    "    # Update liftime\n",
    "    lifetime[women_alive_index] += time_min\n",
    "    \n",
    "    # Update time passed\n",
    "    time_passed_before = time_passed\n",
    "    time_passed += time_min\n",
    "    \n",
    "    # Check if less than 30.5 months have passed\n",
    "    if time_passed <= months_examination:\n",
    "        # Check if any individuals are in state 3 or 4 and delete them if they are\n",
    "        state_3_or_4_pos = np.where((women_states == 3) | (women_states == 4))[0]\n",
    "        new_counts = 0\n",
    "        \n",
    "        # Get number of women in state 3/4 but not taking into account positions that have already been counted\n",
    "        for elem in state_3_or_4_pos:\n",
    "            if elem not in counted_positions:\n",
    "                new_counts += 1\n",
    "        state_3_or_4_pos_count += new_counts\n",
    "\n",
    "        # Save the positions that have already been counted\n",
    "        counted_positions = np.unique(np.concatenate((counted_positions, state_3_or_4_pos)))\n",
    "        \n",
    "    # Check if 48 months has passed\n",
    "    if time_passed_before < time_series_point and time_passed >= time_series_point:\n",
    "        \n",
    "        # Save time series for all women\n",
    "        time_series_states = np.vstack((time_series_states, women_states))\n",
    "        time_series_point += time_series_point\n",
    "\n",
    "# Check if vector with state 5 in all positions has been added to the time series\n",
    "if not np.all(time_series_states[-1,:] == max_state):\n",
    "    time_series_states = np.vstack((time_series_states, women_states))\n",
    "    \n",
    "# Transpose time series to have every individual as a row\n",
    "time_series_states = time_series_states.T\n",
    "    \n",
    "print(\"Women that are/have been in state 3/4 when {} months has passed: {} %\".format(months_examination, 100 * state_3_or_4_pos_count/n_women))\n",
    "print(\"\\n\")\n",
    "print(\"Time series with 1 row representing the development of 1 individual:\")\n",
    "for row in range(0,10):\n",
    "    print(time_series_states[row, :])\n",
    "print(\"...\")"
   ]
  },
  {
   "cell_type": "markdown",
   "metadata": {},
   "source": [
    "From the above, it can be seen that 9.3% of women have gone through state 3/4 when 30.5 months have passed. \n",
    "Furthermore a subset (first to tenth row) of the time series is shown. In the first column all women are in state 1 and in last column all women are in state 5. The time series jumps 48 months, meaning that e.g. column 3 represents the women's states at 96th month. "
   ]
  },
  {
   "cell_type": "markdown",
   "metadata": {},
   "source": [
    "### Illustration of lifetime distribution\n",
    "The following illustrates the distribution of the amount of time passing from state 1 to 5. "
   ]
  },
  {
   "cell_type": "code",
   "execution_count": 3,
   "metadata": {},
   "outputs": [
    {
     "data": {
      "image/png": "[encoded data removed]",
      "text/plain": [
       "<Figure size 432x288 with 1 Axes>"
      ]
     },
     "metadata": {
      "needs_background": "light"
     },
     "output_type": "display_data"
    }
   ],
   "source": [
    "# Illustrate distribution of lifetime\n",
    "plt.figure()\n",
    "plt.title(\"Lifetime Distribution\")\n",
    "plt.xlabel(\"Months after surgery\")\n",
    "plt.hist(lifetime, bins = 100)\n",
    "plt.show()"
   ]
  },
  {
   "cell_type": "markdown",
   "metadata": {},
   "source": [
    "The lifetime distribution show a similar pattern to the life time distribution in the discrete model, being scewed as well. There is still a long right tail, meaning that some people live for an unrealistically long time. "
   ]
  },
  {
   "cell_type": "markdown",
   "metadata": {},
   "source": [
    "# Mean and confidence intervals for the lifetime distribution\n",
    "The mean and standard deviation of lifetime is calculated as well as the confidence intervals of these estimates. "
   ]
  },
  {
   "cell_type": "code",
   "execution_count": 4,
   "metadata": {},
   "outputs": [
    {
     "name": "stdout",
     "output_type": "stream",
     "text": [
      "Mean of lifetime:  270.76743670224005\n",
      "Confidence Interval of the mean of lifetime:  [258.52729279014846, 283.00758061433163]\n",
      "\n",
      "\n",
      "Standard deviation of lifetime:  197.24769830881615\n",
      "Confidence Interval of the mean of lifetime:  [188.96573081636035, 206.29453448757235]\n"
     ]
    }
   ],
   "source": [
    "# Calculate mean and variance\n",
    "lifetime_mean = np.mean(lifetime)\n",
    "lifetime_var = np.var(lifetime)\n",
    "lifetime_sd = np.sqrt(lifetime_var)\n",
    "\n",
    "\n",
    "CI_lower_mean = lifetime_mean + np.sqrt(lifetime_var)/np.sqrt(n_women) * stats.t.ppf(0.05/2, df =n_women-1)\n",
    "CI_upper_mean = lifetime_mean + np.sqrt(lifetime_var)/np.sqrt(n_women) * stats.t.ppf(1-0.05/2, df = n_women-1)\n",
    "\n",
    "print(\"Mean of lifetime: \", lifetime_mean)\n",
    "print(\"Confidence Interval of the mean of lifetime: \", [CI_lower_mean, CI_upper_mean])\n",
    "\n",
    "print(\"\\n\")\n",
    "CI_lower_sd = np.sqrt((n_women - 1) * lifetime_var/stats.chi2.ppf(1-0.05/2, df =n_women-1))\n",
    "CI_upper_sd = np.sqrt((n_women - 1) * lifetime_var/stats.chi2.ppf(0.05/2, df =n_women-1))\n",
    "\n",
    "print(\"Standard deviation of lifetime: \", lifetime_sd)\n",
    "print(\"Confidence Interval of the mean of lifetime: \", [CI_lower_sd, CI_upper_sd])\n"
   ]
  },
  {
   "cell_type": "markdown",
   "metadata": {},
   "source": [
    "As can be seen, the mean lifetime is around 270 months, with a confidence interval corresponding to around +/- a year, which is relatively narrow. The mean standard deviation is around 192 months, and here the confidence interval is relatively narrow as well. "
   ]
  }
 ],
 "metadata": {
  "kernelspec": {
   "display_name": "Python 3",
   "language": "python",
   "name": "python3"
  },
  "language_info": {
   "codemirror_mode": {
    "name": "ipython",
    "version": 3
   },
   "file_extension": ".py",
   "mimetype": "text/x-python",
   "name": "python",
   "nbconvert_exporter": "python",
   "pygments_lexer": "ipython3",
   "version": "3.8.8"
  }
 },
 "nbformat": 4,
 "nbformat_minor": 4
}
