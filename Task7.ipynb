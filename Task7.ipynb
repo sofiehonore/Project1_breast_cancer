{
 "cells": [
  {
   "cell_type": "markdown",
   "metadata": {},
   "source": [
    "# Continuous Time Model Simulating Breast Cancer States"
   ]
  },
  {
   "cell_type": "markdown",
   "metadata": {},
   "source": [
    "## Introduction"
   ]
  },
  {
   "cell_type": "code",
   "execution_count": 1,
   "metadata": {},
   "outputs": [],
   "source": [
    "# Initialization\n",
    "import numpy as np\n",
    "import matplotlib.pyplot as plt\n",
    "import scipy.stats as stats"
   ]
  },
  {
   "cell_type": "code",
   "execution_count": 9,
   "metadata": {},
   "outputs": [],
   "source": [
    "Q = np.array([[-0.0085, 0.005, 0.0025, 0, 0.001],\n",
    "              [0, -0.014, 0.005, 0.004, 0.005], \n",
    "              [0, 0, -0.008, 0.003, 0.005],\n",
    "              [0, 0, 0, -0.009, 0.009],\n",
    "              [0, 0, 0, 0, 0]])\n",
    "\n",
    "max_state = 5\n",
    "n_women = 1000\n",
    "women_states = np.ones(n_women)\n",
    "lifetime = np.zeros(n_women)\n",
    "states = np.arange(1,max_state+1)\n",
    "time_until_next_state = np.random.exponential(scale = 1/-Q[0][0], size = n_women)\n",
    "\n",
    "#plt.hist(time_until_next_state)\n",
    "#print(time_until_next_state)# \n",
    "\n",
    "\n",
    "while np.min(women_states) < max_state:\n",
    "# Get all individuals with state less than five (alive)\n",
    "    women_alive_index = np.where(women_states < 5)[0]\n",
    "\n",
    "    # Decide next event\n",
    "\n",
    "    # Get minimum time until next state, only based on individuals alive\n",
    "    time_min = np.min(time_until_next_state[women_alive_index])\n",
    "    time_min_index = np.where((time_until_next_state == time_min))[0]\n",
    "    time_until_next_state[women_alive_index] = time_until_next_state[women_alive_index] - time_min\n",
    "\n",
    "    # Update states\n",
    "    for elem in time_min_index:\n",
    "        current_state = int(women_states[elem])\n",
    "        probs = -Q[current_state-1,current_state:]/Q[current_state-1,current_state-1]\n",
    "        new_state = np.random.choice(states[current_state:], p = probs)\n",
    "        women_states[elem] = new_state\n",
    "        \n",
    "        # Update time only if state is not 5\n",
    "        if new_state < 5: \n",
    "            time_until_next_state[elem] = np.random.exponential(scale = 1/-Q[new_state-1][new_state-1])\n",
    "\n",
    "    # Update liftime\n",
    "    lifetime[women_alive_index] += time_min\n",
    "\n",
    "    #print(\"State:\\t\\t\", women_states, )\n",
    "    #print(\"Lifetime:\\t\",lifetime)\n",
    "    #print(\"\\n\")\n"
   ]
  },
  {
   "cell_type": "code",
   "execution_count": 11,
   "metadata": {},
   "outputs": [
    {
     "data": {
      "image/png": "[encoded data removed]",
      "text/plain": [
       "<Figure size 432x288 with 1 Axes>"
      ]
     },
     "metadata": {
      "needs_background": "light"
     },
     "output_type": "display_data"
    }
   ],
   "source": [
    "# Illustrate distribution of lifetime\n",
    "plt.figure()\n",
    "plt.title(\"Lifetime Distribution\")\n",
    "plt.xlabel(\"Months after surgery\")\n",
    "plt.hist(lifetime, bins = 100)\n",
    "plt.show()"
   ]
  },
  {
   "cell_type": "code",
   "execution_count": null,
   "metadata": {},
   "outputs": [],
   "source": []
  }
 ],
 "metadata": {
  "kernelspec": {
   "display_name": "Python 3",
   "language": "python",
   "name": "python3"
  },
  "language_info": {
   "codemirror_mode": {
    "name": "ipython",
    "version": 3
   },
   "file_extension": ".py",
   "mimetype": "text/x-python",
   "name": "python",
   "nbconvert_exporter": "python",
   "pygments_lexer": "ipython3",
   "version": "3.8.5"
  }
 },
 "nbformat": 4,
 "nbformat_minor": 4
}
