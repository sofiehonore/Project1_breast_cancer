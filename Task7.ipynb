{
 "cells": [
  {
   "cell_type": "markdown",
   "metadata": {},
   "source": [
    "# Continuous Time Model Simulating Breast Cancer States"
   ]
  },
  {
   "cell_type": "markdown",
   "metadata": {},
   "source": [
    "## Introduction\n",
    "In order to make the model more realistic, it should be possible to transition from one state to another at any time. We therefore simulate a continuous Markov Chain Model with continuous time steps. Still, we simulate 1000 women, all beginning at state 1, and when all have reached state 5, the simulation ends. \n",
    "The following program also creates time series containing every womans state at every 48th months (Task 12) as well as calculates the number of women where the cancer have reappered distantly (state 3 or 4) before time step 30.5, and reports the proportion (Task 7). Here we assume, that if a woman has \"jumped\" from state 1 or 2 directly to state 5, she has not gone through state 3 or 4, and is therefore not included.  "
   ]
  },
  {
   "cell_type": "code",
   "execution_count": 2,
   "metadata": {},
   "outputs": [],
   "source": [
    "# Initialization\n",
    "import random\n",
    "import numpy as np\n",
    "import matplotlib.pyplot as plt\n",
    "import scipy.stats as stats\n",
    "from numpy.linalg import matrix_power"
   ]
  },
  {
   "cell_type": "code",
   "execution_count": 17,
   "metadata": {},
   "outputs": [
    {
     "name": "stdout",
     "output_type": "stream",
     "text": [
      "Women that are/have been in state 3/4 when 30.5 months has passed: 8.9 %\n",
      "\n",
      "\n",
      "Time series with 1 row representing the development of 1 individual:\n",
      "[1. 1. 1. 1. 5. 5. 5.]\n",
      "[1. 3. 3. 3. 5. 5. 5.]\n",
      "[1. 5. 5. 5. 5. 5. 5.]\n",
      "[1. 2. 4. 5. 5. 5. 5.]\n",
      "[1. 1. 1. 5. 5. 5. 5.]\n",
      "[1. 2. 5. 5. 5. 5. 5.]\n",
      "[1. 1. 1. 5. 5. 5. 5.]\n",
      "[1. 3. 3. 3. 5. 5. 5.]\n",
      "[1. 1. 1. 1. 5. 5. 5.]\n",
      "[1. 3. 5. 5. 5. 5. 5.]\n",
      "...\n"
     ]
    }
   ],
   "source": [
    "Q = np.array([[-0.0085, 0.005, 0.0025, 0, 0.001],\n",
    "              [0, -0.014, 0.005, 0.004, 0.005], \n",
    "              [0, 0, -0.008, 0.003, 0.005],\n",
    "              [0, 0, 0, -0.009, 0.009],\n",
    "              [0, 0, 0, 0, 0]])\n",
    "\n",
    "max_state = 5\n",
    "n_women = 1000\n",
    "women_states = np.ones(n_women)\n",
    "time_series_states = np.ones(n_women)\n",
    "time_series_states_to_4 = np.ones(n_women)\n",
    "lifetime = np.zeros(n_women)\n",
    "states = np.arange(1,max_state+1)\n",
    "time_until_next_state = np.random.exponential(scale = 1/-Q[0][0], size = n_women)\n",
    "time_passed = 0\n",
    "counted_positions = np.array([])\n",
    "state_3_or_4_pos_count = 0\n",
    "\n",
    "# For examining proportions in specific state after specific time\n",
    "state_examination = 3\n",
    "months_examination = 30.5\n",
    "\n",
    "time_series_point = 48\n",
    "\n",
    "while np.min(women_states) < max_state:\n",
    "    \n",
    "    # Get women that are alive, meaning not in state 5\n",
    "    women_alive_index = np.where(women_states < 5)[0]\n",
    "\n",
    "    # Get minimum time until next state, only based on individuals alive\n",
    "    time_min = np.min(time_until_next_state[women_alive_index])\n",
    "    time_min_index = np.where((time_until_next_state == time_min))[0]\n",
    "    time_until_next_state[women_alive_index] = time_until_next_state[women_alive_index] - time_min\n",
    "\n",
    "    # Update states\n",
    "    for elem in time_min_index:\n",
    "        current_state = int(women_states[elem])\n",
    "        probs = -Q[current_state-1,current_state:]/Q[current_state-1,current_state-1]\n",
    "        new_state = np.random.choice(states[current_state:], p = probs)\n",
    "        women_states[elem] = new_state\n",
    "        \n",
    "        # Update time only if state is not 5\n",
    "        if new_state < 5: \n",
    "            time_until_next_state[elem] = np.random.exponential(scale = 1/-Q[new_state-1][new_state-1])\n",
    "\n",
    "    # Update liftime\n",
    "    lifetime[women_alive_index] += time_min\n",
    "    \n",
    "    # Update time passed\n",
    "    time_passed_before = time_passed\n",
    "    time_passed += time_min\n",
    "    \n",
    "    # Check if less than 30.5 months have passed\n",
    "    if time_passed <= months_examination:\n",
    "        # Check if any individuals are in state 3 or 4 and delete them if they are\n",
    "        state_3_or_4_pos = np.where((women_states == 3) | (women_states == 4))[0]\n",
    "        new_counts = 0\n",
    "        \n",
    "        # Get number of women in state 3/4 but not taking into account positions that have already been counted\n",
    "        for elem in state_3_or_4_pos:\n",
    "            if elem not in counted_positions:\n",
    "                new_counts += 1\n",
    "        state_3_or_4_pos_count += new_counts\n",
    "\n",
    "        # Save the positions that have already been counted\n",
    "        counted_positions = np.unique(np.concatenate((counted_positions, state_3_or_4_pos)))\n",
    "        \n",
    "    # Check if 48 months has passed\n",
    "    if time_passed_before < time_series_point and time_passed >= time_series_point:\n",
    "        \n",
    "        # Save time series for all women\n",
    "        time_series_states = np.vstack((time_series_states, women_states))\n",
    "        time_series_point += time_series_point\n",
    "\n",
    "# Check if vector with state 5 in all positions has been added to the time series\n",
    "if not np.all(time_series_states[-1,:] == max_state):\n",
    "    time_series_states = np.vstack((time_series_states, women_states))\n",
    "    \n",
    "# Transpose time series to have every individual as a row\n",
    "time_series_states = time_series_states.T\n",
    "    \n",
    "print(\"Women that are/have been in state 3/4 when {} months has passed: {} %\".format(months_examination, 100 * state_3_or_4_pos_count/n_women))\n",
    "print(\"\\n\")\n",
    "print(\"Time series with 1 row representing the development of 1 individual:\")\n",
    "for row in range(0,10):\n",
    "    print(time_series_states[row, :])\n",
    "print(\"...\")"
   ]
  },
  {
   "cell_type": "markdown",
   "metadata": {},
   "source": [
    "From the above, it can be seen that 8.9% of women have gone through state 3/4 when 30.5 months have passed. \n",
    "Furthermore a subset (first to tenth row) of the time series is shown. In the first column all women are in state 1 and in last column all women are in state 5. The time series jumps 48 months, meaning that e.g. column 3 represents the women's states at 96th month. "
   ]
  },
  {
   "cell_type": "markdown",
   "metadata": {},
   "source": [
    "### Illustration of lifetime distribution\n",
    "The following illustrates the distribution of the amount of time passing from state 1 to 5. "
   ]
  },
  {
   "cell_type": "code",
   "execution_count": 4,
   "metadata": {},
   "outputs": [
    {
     "data": {
      "image/png": "[encoded data removed]",
      "text/plain": [
       "<Figure size 432x288 with 1 Axes>"
      ]
     },
     "metadata": {
      "needs_background": "light"
     },
     "output_type": "display_data"
    }
   ],
   "source": [
    "# Illustrate distribution of lifetime\n",
    "plt.figure()\n",
    "plt.title(\"Lifetime Distribution\")\n",
    "plt.xlabel(\"Months after surgery\")\n",
    "plt.hist(lifetime, bins = 100)\n",
    "plt.show()"
   ]
  },
  {
   "cell_type": "markdown",
   "metadata": {},
   "source": [
    "The lifetime distribution show a similar pattern to the life time distribution in the discrete model, being scewed as well. There is still a long right tail, meaning that some people live for an unrealistically long time. "
   ]
  },
  {
   "cell_type": "markdown",
   "metadata": {},
   "source": [
    "# Mean and confidence intervals for the lifetime distribution\n",
    "The mean and standard deviation of lifetime is calculated as well as the confidence intervals of these estimates. "
   ]
  },
  {
   "cell_type": "code",
   "execution_count": 19,
   "metadata": {},
   "outputs": [
    {
     "name": "stdout",
     "output_type": "stream",
     "text": [
      "Mean of lifetime:  261.007775910556\n",
      "Confidence Interval of the mean of lifetime:  [249.03284600497645, 272.98270581613554]\n",
      "\n",
      "\n",
      "Standard deviation of lifetime:  192.97382271393215\n",
      "Confidence Interval of the mean of lifetime:  [184.8713052178368, 201.8246360610568]\n"
     ]
    }
   ],
   "source": [
    "# Calculate mean and variance\n",
    "lifetime_mean = np.mean(lifetime)\n",
    "lifetime_var = np.var(lifetime)\n",
    "lifetime_sd = np.sqrt(lifetime_var)\n",
    "\n",
    "\n",
    "CI_lower_mean = lifetime_mean + np.sqrt(lifetime_var)/np.sqrt(n_women) * stats.t.ppf(0.05/2, df =n_women-1)\n",
    "CI_upper_mean = lifetime_mean + np.sqrt(lifetime_var)/np.sqrt(n_women) * stats.t.ppf(1-0.05/2, df = n_women-1)\n",
    "\n",
    "print(\"Mean of lifetime: \", lifetime_mean)\n",
    "print(\"Confidence Interval of the mean of lifetime: \", [CI_lower_mean, CI_upper_mean])\n",
    "\n",
    "print(\"\\n\")\n",
    "CI_lower_sd = np.sqrt((n_women - 1) * lifetime_var/stats.chi2.ppf(1-0.05/2, df =n_women-1))\n",
    "CI_upper_sd = np.sqrt((n_women - 1) * lifetime_var/stats.chi2.ppf(0.05/2, df =n_women-1))\n",
    "\n",
    "print(\"Standard deviation of lifetime: \", lifetime_sd)\n",
    "print(\"Confidence Interval of the mean of lifetime: \", [CI_lower_sd, CI_upper_sd])\n"
   ]
  },
  {
   "cell_type": "markdown",
   "metadata": {},
   "source": [
    "As can be seen, the mean lifetime is around 261 months, with a confidence interval corresponding to around +/- a year, which is relatively narrow. The mean standard deviation is around 193 months, and here the confidence interval is relatively narrow as well. "
   ]
  },
  {
   "cell_type": "markdown",
   "metadata": {},
   "source": [
    "# Task 13: Estimation"
   ]
  },
  {
   "cell_type": "markdown",
   "metadata": {},
   "source": [
    "In this task, we try to estimate the matrix Q based on available data about the cancer states of the women collected every 48th month. Because the data is collected with a large time interval, we don't know which states the women have gone through between the data collections. This information is needed to estimate the matrix Q. Therefore, we simulate state trajectories for each woman and compare the result with the data (as produced in task 12) in order to get data to work from. We start out with a guess for Q, and then simulate the trajectories as described in the project description by rejecting all trajectories that do not match the given data. This is then used to update Q until barely no changes happen with Q."
   ]
  },
  {
   "cell_type": "code",
   "execution_count": 18,
   "metadata": {},
   "outputs": [
    {
     "name": "stdout",
     "output_type": "stream",
     "text": [
      "0.06466005388209647\n",
      "0.023402489256466194\n",
      "0.013498835283471993\n",
      "0.016237675460076054\n",
      "0.016901569113618453\n",
      "0.01870746569614609\n",
      "0.0055861375736840635\n",
      "0.008079647077401442\n",
      "0.00807264055252263\n",
      "0.012096791401736558\n",
      "0.014297492312650234\n",
      "0.009587936951593443\n",
      "0.010694620014608774\n",
      "0.004300260206413211\n",
      "0.009089137489798657\n",
      "0.010863639989227097\n",
      "0.019423789210951503\n",
      "0.007535715666779279\n",
      "0.011049368530012352\n",
      "0.005142015775307315\n",
      "0.006454512918370098\n",
      "0.009592252707687293\n",
      "0.0063899395524807945\n",
      "0.00897917914850166\n",
      "0.0051423721391376616\n",
      "0.00816637820219418\n",
      "0.004699149398049619\n",
      "0.004019952495102785\n",
      "0.024820485778692114\n",
      "0.0043488282957542986\n",
      "0.013679338440998001\n",
      "0.005676352547586638\n",
      "0.006229599234508015\n",
      "0.006083912622905091\n",
      "0.00665921359821486\n",
      "0.022640480682126707\n",
      "0.010323557209969525\n",
      "0.010134803796961873\n",
      "0.0009032579640239069\n",
      "Done. Final Q-matrix:\n",
      "[[-0.02075235  0.01614532  0.00128665  0.          0.00332038]\n",
      " [ 0.         -0.08759212  0.07757194  0.00743069  0.00258948]\n",
      " [ 0.          0.         -0.05705041  0.051277    0.00577341]\n",
      " [ 0.          0.          0.         -0.18169306  0.18169306]\n",
      " [ 0.          0.          0.          0.         -0.        ]]\n"
     ]
    }
   ],
   "source": [
    "# Test women\n",
    "X = time_series_states.astype(int)\n",
    "#np.array([[1,2,3,4,5],\n",
    "#              [1,3, 3, 3, 5],\n",
    "#              [1, 2, 2, 4, 5],\n",
    "#              [1, 2, 3, 3, 5],\n",
    "#              [1, 4, 4, 5, 5]])\n",
    "\n",
    "#X = np.array([[1,2,3,4,5],\n",
    "#              [1,3, 3, 3, 5]])\n",
    "\n",
    "# Initial Q guess\n",
    "#Q_test = np.array([[-0.004, 0.001, 0.001, 0.001, 0.001],\n",
    "#              [0, -0.003, 0.001, 0.001, 0.001], \n",
    "#              [0, 0, -0.002, 0.001, 0.001],\n",
    "#              [0, 0, 0, -0.001, 0.001],\n",
    "#              [0, 0, 0, 0, 0]]) \n",
    "\n",
    "Q_test = np.array([[-0.008, 0.004, 0.002, 0, 0.002],\n",
    "              [0, -0.015, 0.005, 0.005, 0.005], \n",
    "              [0, 0, -0.008, 0.004, 0.004],\n",
    "              [0, 0, 0, -0.007, 0.007],\n",
    "              [0, 0, 0, 0, 0]])\n",
    "\n",
    "# Possible states\n",
    "states = np.arange(1,6)\n",
    "\n",
    "\n",
    "# N and S (for filling out)\n",
    "N = np.array([[0, 0, 0, 0, 0],\n",
    "              [0, 0, 0, 0, 0], \n",
    "              [0, 0, 0, 0, 0],\n",
    "              [0, 0, 0, 0, 0],\n",
    "              [0, 0, 0, 0, 0]]) \n",
    "\n",
    "S = np.zeros(4)\n",
    "\n",
    "# Initial trajectory matrix\n",
    "X_test = np.zeros(np.shape(X)[1] * 48)\n",
    "\n",
    "k = 0\n",
    "\n",
    "diff = 1\n",
    "\n",
    "# K LOOP\n",
    "while diff >= 10**(-3):\n",
    "     \n",
    "    # N and S\n",
    "    N = np.array([[0, 0, 0, 0, 0],\n",
    "                  [0, 0, 0, 0, 0], \n",
    "                  [0, 0, 0, 0, 0],\n",
    "                  [0, 0, 0, 0, 0],\n",
    "                  [0, 0, 0, 0, 0]]) \n",
    "    S = np.zeros(4)\n",
    "    \n",
    "    # PART 1: WOMAN LOOP\n",
    "    for i in range(len(X)):\n",
    "        # Get woman\n",
    "        test_woman = X[i,:]\n",
    "        woman_all_states = np.array([])\n",
    "        woman_event_times = np.array([])\n",
    "    \n",
    "        t = np.array([])\n",
    "        \n",
    "        j = 0\n",
    "        # Run through woman: ONE-WOMAN LOOP\n",
    "        while j < len(test_woman)-1:\n",
    "            y_start = test_woman[j]\n",
    "            y_end = test_woman[j+1]\n",
    "            \n",
    "            try_state = np.array([y_start])\n",
    "            if try_state[-1] < 5:\n",
    "                try_t = np.array([np.random.exponential(scale = 1/-Q_test[try_state[-1]-1, try_state[-1]-1])])\n",
    "            else:\n",
    "                break\n",
    "            \n",
    "            # TRY LOOP\n",
    "            while (np.sum(t) + np.sum(try_t)) < ((j+1)*48):\n",
    "                # Get new state\n",
    "                probs = -Q_test[try_state[-1] - 1, try_state[-1]:]/Q_test[try_state[-1] - 1, try_state[-1] - 1]\n",
    "                addition_for_try_state = np.array([np.random.choice(states[try_state[-1]:], p = probs)])\n",
    "                try_state = np.concatenate((try_state, addition_for_try_state))\n",
    "                \n",
    "                # Get time for state\n",
    "                if try_state[-1] < 5:\n",
    "                    addition_for_try_t = np.array([np.random.exponential(scale = 1/-Q_test[try_state[-1]-1,try_state[-1]-1])])\n",
    "                    try_t = np.concatenate((try_t, addition_for_try_t))\n",
    "                         \n",
    "                else:\n",
    "                    break\n",
    "             \n",
    "                                             \n",
    "            # ACCEPTANCE OR REJECTION\n",
    "            if try_state[-1] == y_end:\n",
    "                if np.sum(t) + np.sum(try_t) < ((j+2)*48):\n",
    "                    t = np.concatenate((t, try_t))\n",
    "                    woman_all_states = np.concatenate((woman_all_states, try_state))\n",
    "                    j += 1\n",
    "                    \n",
    "                else:\n",
    "                    how_many_intervals = int(np.floor((np.sum(t) + np.sum(try_t))/48))\n",
    "                    if (j + how_many_intervals < len(test_woman)):\n",
    "                        if (test_woman[j + how_many_intervals] == try_state[-1]):\n",
    "                            t = np.concatenate((t, try_t))\n",
    "                            woman_all_states = np.concatenate((woman_all_states, try_state))\n",
    "                            j += how_many_intervals\n",
    "                        \n",
    "                        \n",
    "        # Calculate N\n",
    "        for w in range(len(woman_all_states)-1):\n",
    "            i = int(woman_all_states[w] - 1)\n",
    "            j = int(woman_all_states[w+1] - 1)\n",
    "            if i != j:\n",
    "                N[i,j] += 1\n",
    "            \n",
    "        # Calculate S\n",
    "        for w in range(1,5):\n",
    "            S[w-1] += np.sum(t[np.where(woman_all_states == w)[0]])\n",
    "            \n",
    "    ### Create Q ###\n",
    "    Q_simulation = np.array([[0.0, 0.0, 0.0, 0.0, 0.0],\n",
    "              [0.0, 0.0, 0.0, 0.0, 0.0], \n",
    "              [0.0, 0.0, 0.0, 0.0, 0.0],\n",
    "              [0.0, 0.0, 0.0, 0.0, 0.0],\n",
    "              [0.0, 0.0, 0.0, 0.0, 0.0]])\n",
    "    \n",
    "    for i in range(4):\n",
    "        for j in range(5):\n",
    "            if S[i] != 0:\n",
    "                entrance = N[i,j]/S[i]\n",
    "                Q_simulation[i][j] += entrance\n",
    "                Q_simulation[i,j] += N[i,j]/S[i]\n",
    "    \n",
    "    # Make sure each row sums to 0\n",
    "    for i in range(5):\n",
    "        for j in range(5):\n",
    "            if i == j:\n",
    "                Q_simulation[i, j] = -np.sum(Q_simulation[i,j+1:])\n",
    "    \n",
    "    ### Find diff ###\n",
    "    diff_matrix = Q_test - Q_simulation\n",
    "    diff = np.linalg.norm(diff_matrix, np.inf)\n",
    "    Q_test = np.copy(Q_simulation)\n",
    "    print(diff)\n",
    "    \n",
    "\n",
    "print('Done. Final Q-matrix:')\n",
    "print(Q_test)"
   ]
  },
  {
   "cell_type": "markdown",
   "metadata": {},
   "source": [
    "Above, we have printed the differences for each k'th iteration, and the final Q-matrix, once the matrix norm of $Q^{(k)}$ and $Q^{(k+1)}$ was below $10^{-3}$. As can be seen, we reach that no woman will go from state 1 to 4, and otherwise the rates are generally higher than for the original given Q. "
   ]
  }
 ],
 "metadata": {
  "kernelspec": {
   "display_name": "Python 3",
   "language": "python",
   "name": "python3"
  },
  "language_info": {
   "codemirror_mode": {
    "name": "ipython",
    "version": 3
   },
   "file_extension": ".py",
   "mimetype": "text/x-python",
   "name": "python",
   "nbconvert_exporter": "python",
   "pygments_lexer": "ipython3",
   "version": "3.6.9"
  }
 },
 "nbformat": 4,
 "nbformat_minor": 4
}
