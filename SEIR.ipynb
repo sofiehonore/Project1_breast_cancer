{
 "cells": [
  {
   "cell_type": "markdown",
   "metadata": {},
   "source": [
    "\n",
    "We then extended the model by adding an \"exposed\" state, i.e. an incubation period of the infectious disease. Here the individual would have the disease but without being able to pass it on before reaching the \"infected\" state. \n",
    "This means that our model now both have a probability of going from \"susceptible\" to \"exposed\" and from \"infected\" to \"recovered\". Instead of a probability of going from the \"exposed\" state to the \"infected\" state for each time step, we draw the time that the individual should stay in the \"exposed\" state. This was done both as a way of intuitively modeling a more fixed incubation time (i.e. we didn't want a probability that the individual could be in this state for a much shorter/longer time period), and as a way of exploring extensions of the model in another way than adding another state with a given probability. \n",
    "\n",
    "The model works as earlier described (i.e. same population size, no one leaves the system etc.), but with the following addition: For all the individuals in the \"susceptible\" state, we draw the probability that they will go to the \"exposed\" state. Earlier, we modelled the transistion from the \"susceptible\" state to the \"infected\" state with a probability for each time step. We still do this when going from the \"susceptible\" state to the \"exposed\" state, as the probability of getting infected (i.e. going to the exposed state, then the infected), should still depend on how many infected individuals we have in the population. In other words, the greater the share of infected individuals, the higher the probability of going into the \"exposed\" state for the susceptible indivuals. For the individuals that do transition to the \"exposed\" state, we further draw a time they should stay in this state. This period is drawn from a normal distribution. For each timestep, we update the individuals for who the \"exposed\" state have reached its end to the \"infected\" state. After this, we again for each timestep draw the probability of moving to the next state. In this case we have a SEIR model, i.e. the individual will have life long immunity and will thus not be able to return to the \"susceptible\" state again. \n",
    "\n",
    "In this model we consider an incubation time of a more fixed time, i.e. we consider the disease to be one which simply evovles over x days before giving rise to symptoms and becoming contagious (i.e. Gonorrhea has an incubation time of 1 week, HIV of 4 weeks etc.). We achieved this more fixed time by drawing the time from a normal distribution with a small standard deviation (we use a standard deviation of 0.2 days). A more variable incubation time could of course be achieved with the same method, by drawing from a wider distribution. The incubation time could also be modelled as a time period in which the disease is actually contagious, but maybe with a lower probability than in the \"infected\" stage.\n",
    "\n",
    "We tested the model with different parameter values. In order to obtain manageable results, we only varied the parameters that deviate from the initial SIR model. The probability of going from the \"infected\" to the \"recovered\" state was kept as 0.2, as this gave the biggest disease outbreak in our SIR model. For the probability of entering the \"exposed\" state from the \"susceptible\" state, we tested the three parameter values 0.2, 0.5 and 0.8. Furthermore, for each of these we tested three different means for the time individuals should spend in the \"exposed\" state: 2 days, 5 days and 10 days. For each parameter combination, we computed the maximum number of infected (I_max), which time this occured (t_max) and the time for which the infection ended (t_end). This was run 100 times for each to compute means and 95% confidence intervals. \n",
    "The results can be seen below."
   ]
  },
  {
   "cell_type": "code",
   "execution_count": 16,
   "metadata": {},
   "outputs": [],
   "source": [
    "# Initialization\n",
    "import numpy as np\n",
    "import matplotlib.pyplot as plt\n",
    "import scipy.stats as stats\n",
    "from tabulate import tabulate"
   ]
  },
  {
   "cell_type": "code",
   "execution_count": 57,
   "metadata": {},
   "outputs": [
    {
     "name": "stdout",
     "output_type": "stream",
     "text": [
      "|   S-->E |   Mean E |   I_max mean | I_max CI        |   t_max mean | t_max CI      |   t_end mean | t_end CI      |\n",
      "|---------+----------+--------------+-----------------+--------------+---------------+--------------+---------------|\n",
      "|     0.2 |        2 |         1.76 | [1.42 2.1 ]     |         2.82 | [1.55 4.09]   |         9.17 | [ 6.5  11.84] |\n",
      "|     0.2 |        5 |         1.32 | [1.08 1.56]     |         1.95 | [0.59 3.31]   |         7.79 | [5.76 9.82]   |\n",
      "|     0.2 |       10 |         1.06 | [1.01 1.11]     |         0.88 | [0.18 1.58]   |         5.94 | [5.03 6.85]   |\n",
      "|     0.5 |        2 |        62.62 | [46.09 79.15]   |        16.24 | [12.06 20.42] |        36.77 | [28.19 45.35] |\n",
      "|     0.5 |        5 |        29.46 | [17.78 41.14]   |        12.3  | [ 7.49 17.11] |        26.78 | [17.7  35.86] |\n",
      "|     0.5 |       10 |         5.75 | [ 1.21 10.29]   |         3.7  | [0.68 6.72]   |        11.65 | [ 5.88 17.42] |\n",
      "|     0.8 |        2 |       151.36 | [121.56 181.16] |        16.23 | [13.11 19.35] |        37.02 | [30.41 43.63] |\n",
      "|     0.8 |        5 |        62.01 | [39.97 84.05]   |        10.26 | [ 6.59 13.93] |        22.8  | [15.93 29.67] |\n",
      "|     0.8 |       10 |        10.13 | [ 2.28 17.98]   |         3.48 | [0.58 6.38]   |        10.49 | [ 5.9  15.08] |\n"
     ]
    }
   ],
   "source": [
    "n = 1000\n",
    "n_runs = 100\n",
    "\n",
    "prob_S_E_values = np.array([0.2, 0.5, 0.8])\n",
    "E_mean_values = np.array([2, 5, 10])\n",
    "\n",
    "statistics = np.zeros(8)\n",
    "#statistics = np.array((0.2, 0.2, 1.68, str([1.2 , 2.16]), 3.53, str([0.91, 6.15]), 10.95, str([ 6.4, 15.5])))\n",
    "\n",
    "# Sets counter\n",
    "counter = 0\n",
    "\n",
    "# Sets parameter values\n",
    "prob_I_R = 0.2\n",
    "\n",
    "# Runs through parameter values between S and E\n",
    "for prob_S_E_value in prob_S_E_values:\n",
    "    prob_S_E = prob_S_E_value \n",
    "    \n",
    "    # Runs through parameter values between I and R\n",
    "    for mean_value  in E_mean_values:\n",
    "        # Sets incubation mean to current value\n",
    "        E_mean = mean_value \n",
    "        \n",
    "        # Initiates vector\n",
    "        max_values = np.zeros(n_runs)\n",
    "        max_t_values = np.zeros(n_runs)\n",
    "        end_of_inf_values = np.zeros(n_runs)\n",
    "        \n",
    "        # Runs 100 times to get comparable values\n",
    "        for i in range(n_runs):\n",
    "            \n",
    "            # Vector of states\n",
    "            states = np.repeat(\"S\",n)\n",
    "            states[0] = \"I\"\n",
    "\n",
    "            n_S = np.array([len(np.where(states == \"S\")[0])])\n",
    "            n_E = np.array([len(np.where(states == \"E\")[0])])\n",
    "            n_I = np.array([len(np.where(states == \"I\")[0])])\n",
    "            n_R = np.array([len(np.where(states == \"R\")[0])])\n",
    "\n",
    "            E_times = np.zeros(n)\n",
    "            E_scale = 1\n",
    "\n",
    "            while \"I\" in states:\n",
    "\n",
    "                # Get positions of S, I, R\n",
    "                S_index = np.where(states == \"S\")[0]\n",
    "                E_index = np.where(states == \"E\")[0]\n",
    "                I_index = np.where(states == \"I\")[0]\n",
    "                R_index = np.where(states == \"R\")[0]\n",
    "\n",
    "                # Update exposed\n",
    "                E_times[E_index] = E_times[E_index] - 1\n",
    "                states[np.where((E_times == 0) & (states == \"E\"))] = \"I\"\n",
    "\n",
    "                # Update susceptible\n",
    "                prob_S_E_t = prob_S_E * len(I_index)/n\n",
    "                states[S_index] = np.random.choice(np.array([\"S\", \"E\"]),p = np.array([1-prob_S_E_t, prob_S_E_t]), size = len(S_index))\n",
    "\n",
    "                # Assign incubation time for exposed\n",
    "                E_index_new = np.where((states == \"E\") & (E_times == 0))\n",
    "                E_times[E_index_new] = np.round(np.random.normal(loc = E_mean, scale = E_scale))\n",
    "\n",
    "                # Update infected\n",
    "                states[I_index] = np.random.choice(np.array([\"I\", \"R\"]),p = np.array([1-prob_I_R, prob_I_R]), size = len(I_index))\n",
    "\n",
    "                # Updates count in each state\n",
    "                n_S = np.concatenate([n_S, np.array([len(np.where(states == \"S\")[0])])])\n",
    "                n_E = np.concatenate([n_E, np.array([len(np.where(states == \"E\")[0])])])\n",
    "                n_I = np.concatenate([n_I, np.array([len(np.where(states == \"I\")[0])])])\n",
    "                n_R = np.concatenate([n_R, np.array([len(np.where(states == \"R\")[0])])])\n",
    "            \n",
    "            \n",
    "            # Updates values for statistics for each 100th iteration\n",
    "            max_values[i] = max(n_I)\n",
    "            max_t_values[i] = float(np.where(n_I == max(n_I))[0][0])\n",
    "            end_of_inf_values[i] = len(n_I) \n",
    "\n",
    "        # Calculates statistics\n",
    "        I_max_mean = str(np.mean(max_values))\n",
    "        I_max_CI = str(np.round(stats.norm.interval(alpha=0.95, loc=np.mean(max_values), scale=stats.sem(max_values)), 2))\n",
    "        I_max_t_mean = str(np.mean(max_t_values))\n",
    "        I_max_t_CI = str(np.round(stats.norm.interval(alpha=0.95, loc=np.mean(max_t_values), scale=stats.sem(max_t_values)), 2))\n",
    "        I_end_of_inf_mean = str(np.mean(end_of_inf_values))\n",
    "        I_end_of_inf_CI = str(np.round(stats.norm.interval(alpha=0.95, loc=np.mean(end_of_inf_values), scale=stats.sem(end_of_inf_values)), 2))\n",
    "        \n",
    "        # Adds to statistics matrix for later table\n",
    "        new_stats = (prob_S_E, E_mean, I_max_mean, I_max_CI, I_max_t_mean, I_max_t_CI , I_end_of_inf_mean, I_end_of_inf_CI)\n",
    "        statistics = np.vstack((statistics, new_stats))\n",
    "\n",
    "        # Updates counter    \n",
    "        counter += 1\n",
    "\n",
    "# Print statistics table\n",
    "print(tabulate(statistics[1:,], headers=[\"S-->E\",\"Mean E\", \"I_max mean\", \"I_max CI\", \"t_max mean\", \"t_max CI\", \"t_end mean\", \"t_end CI\"], tablefmt='orgtbl'))"
   ]
  },
  {
   "cell_type": "markdown",
   "metadata": {},
   "source": [
    "Here it can be seen that we obtain the largest disease outbreak with a high probability (p = 0.8) of going from \"susceptible\" to \"exposed\" and the lowest mean time (t = 2 days) for incubation time, as this has the highest value for both the maximum number of infected and the duration of the disease outbreak. Here it can be seen that the confidence interval is quite wide, indicating that it varies quite a lot between simulations. This could be expected, as we can no matter what (as long as we don't have p=1) risk that patient zero recovers before passing it on to other individuals, thus giving great variability between simulations. On the contrary, the lowest probability (p = 0.2) and the highest incubation time (t = 10) result in the smallest disease outbreak. Here the confidence interval is more narrow around 1, indicating that the one infected individual in most cases transitions to recovered before passing on the disease. These epidemic vs. parameter tendencies seem reasonable, as a high probability of becoming exposed (and thereby infected) together with a short period of non-contagiousness (i.e. the incubation time) will result in a larger disease outbreak. \n",
    "Below, we have plotted the simulation of the disease outbreaks with the two mentioned parameter combinations."
   ]
  },
  {
   "cell_type": "code",
   "execution_count": 52,
   "metadata": {},
   "outputs": [
    {
     "data": {
      "image/png": "[encoded data removed]",
      "text/plain": [
       "<Figure size 432x288 with 1 Axes>"
      ]
     },
     "metadata": {
      "needs_background": "light"
     },
     "output_type": "display_data"
    },
    {
     "name": "stdout",
     "output_type": "stream",
     "text": [
      "Maximum number of infected:  1\n"
     ]
    },
    {
     "data": {
      "image/png": "[encoded data removed]",
      "text/plain": [
       "<Figure size 432x288 with 1 Axes>"
      ]
     },
     "metadata": {
      "needs_background": "light"
     },
     "output_type": "display_data"
    },
    {
     "name": "stdout",
     "output_type": "stream",
     "text": [
      "Maximum number of infected:  341\n"
     ]
    }
   ],
   "source": [
    "# Runs 2 times to plot largest and smallest epidemic\n",
    "prob_S_E_values = np.array([0.2, 0.8])\n",
    "mean_values  = np.array([10, 2])\n",
    "\n",
    "# Sets parameter values\n",
    "prob_I_R = 0.2\n",
    "\n",
    "# For loop to create plots for both\n",
    "for i in range(2):\n",
    "    # Sets parameters\n",
    "    prob_S_E = prob_S_E_values[i]\n",
    "    E_mean = mean_values[i]\n",
    "    \n",
    "    # Vector of states\n",
    "    states = np.repeat(\"S\",n)\n",
    "    states[0] = \"I\"\n",
    "\n",
    "    n_S = np.array([len(np.where(states == \"S\")[0])])\n",
    "    n_E = np.array([len(np.where(states == \"E\")[0])])\n",
    "    n_I = np.array([len(np.where(states == \"I\")[0])])\n",
    "    n_R = np.array([len(np.where(states == \"R\")[0])])\n",
    "\n",
    "    E_times = np.zeros(n)\n",
    "    E_scale = 1\n",
    "\n",
    "    while \"I\" in states:\n",
    "\n",
    "        # Get positions of S, I, R\n",
    "        S_index = np.where(states == \"S\")[0]\n",
    "        E_index = np.where(states == \"E\")[0]\n",
    "        I_index = np.where(states == \"I\")[0]\n",
    "        R_index = np.where(states == \"R\")[0]\n",
    "\n",
    "        # Update exposed\n",
    "        E_times[E_index] = E_times[E_index] - 1\n",
    "        states[np.where((E_times == 0) & (states == \"E\"))] = \"I\"\n",
    "\n",
    "        # Update susceptible\n",
    "        prob_S_E_t = prob_S_E * len(I_index)/n\n",
    "        states[S_index] = np.random.choice(np.array([\"S\", \"E\"]),p = np.array([1-prob_S_E_t, prob_S_E_t]), size = len(S_index))\n",
    "\n",
    "        # Assign incubation time for exposed\n",
    "        E_index_new = np.where((states == \"E\") & (E_times == 0))\n",
    "        E_times[E_index_new] = np.round(np.random.normal(loc = E_mean, scale = E_scale))\n",
    "\n",
    "        # Update infected\n",
    "        states[I_index] = np.random.choice(np.array([\"I\", \"R\"]),p = np.array([1-prob_I_R, prob_I_R]), size = len(I_index))\n",
    "\n",
    "        # Updates count in each state\n",
    "        n_S = np.concatenate([n_S, np.array([len(np.where(states == \"S\")[0])])])\n",
    "        n_E = np.concatenate([n_E, np.array([len(np.where(states == \"E\")[0])])])\n",
    "        n_I = np.concatenate([n_I, np.array([len(np.where(states == \"I\")[0])])])\n",
    "        n_R = np.concatenate([n_R, np.array([len(np.where(states == \"R\")[0])])])\n",
    "\n",
    "\n",
    "    # Plot\n",
    "    plt.figure()\n",
    "    plt.plot(n_S, \"-b\", label = \"Susceptible\")\n",
    "    plt.plot(n_E, \"-y\", label = \"Exposed\")\n",
    "    plt.plot(n_I, \"-r\", label = \"Infected\")\n",
    "    plt.plot(n_R, \"-g\", label = \"Recovered\")\n",
    "    plt.ylabel(\"Number of people\")\n",
    "    plt.xlabel(\"Days\")\n",
    "    #plt.xlim(0,100)\n",
    "    plot_title = \"S --> E: \" + str(prob_S_E) + \", Mean E: \" + str(E_mean)\n",
    "    plt.title(plot_title)\n",
    "    plt.legend()\n",
    "    plt.show()\n",
    "\n",
    "    print(\"Maximum number of infected: \", max(n_I))\n",
    "\n"
   ]
  },
  {
   "cell_type": "markdown",
   "metadata": {},
   "source": [
    "Here it can be seen that for the \"small disease outbreak\", this simulation exactly shows that the first infected individual never manages to pass the disease on, as the population remains in the \"susceptible\" state. For the \"large epidemic\", we see a standard SIR development with this reversed course in the number of susceptible and recovered. The fluctuations for exposed and infected could indicate a delay that arises when many individuals have entered the exposed state, but will first begin to pass it on around two days later. Thus, the effect of the newly diseased individuals will first be apparent with ~2 days delay."
   ]
  }
 ],
 "metadata": {
  "kernelspec": {
   "display_name": "Python 3",
   "language": "python",
   "name": "python3"
  },
  "language_info": {
   "codemirror_mode": {
    "name": "ipython",
    "version": 3
   },
   "file_extension": ".py",
   "mimetype": "text/x-python",
   "name": "python",
   "nbconvert_exporter": "python",
   "pygments_lexer": "ipython3",
   "version": "3.7.1"
  }
 },
 "nbformat": 4,
 "nbformat_minor": 4
}
