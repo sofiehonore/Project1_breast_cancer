{
 "cells": [
  {
   "cell_type": "markdown",
   "metadata": {},
   "source": [
    "In this part of our project, we want to investigate whether a whole population can become extinct from a epidemic. To do this, we have introduced a differentiation between recovered and dead individuals. In a normal SIR, the recovered state (R) contains both of these groups, and it is therefore not possible to distinguish and count the number of deaths. \n",
    "After some experimentation with our different models, we found that we could come closest to an extinct population with our SIRS model. In this model, the possibility of going from R to S makes the individuals who survived the disease in the first place susceptible again - and therefore in risk of dying from the disease at a later time. In a normal SIR, all individuals who have made it to the recovered state will be safe - and with even a small recovered_rate/death_rate ratio, the population will not become extinct. \n",
    "\n",
    "To find parameter values that create a very deadly epidemic, we have experimented with different combinations of probabilities of going from infected to recovered and from infected to dead (D). We found that high values of both of these could easily kill off the epidemic in the beginning as people would not be in the infected state long enough to infect others. We have therefore experimented with all combinations of these three probabilities of going from both I to R and I to D in each time step: $[0.01,0.02,0.05]$. \n",
    "We have used fixed rates for the probabilities of going from S to I and R to S to get a manageable number of combinations. Again, we have here experimented with different probabilities and found that we get the highest number of deaths with $prob_{RS} = 0.8$ and $prob_{SI} = 0.7$. \n",
    "Below, we have run the combinations of all these probabilities and outputted a table with the resulting mean number of deaths during the epidemic. "
   ]
  },
  {
   "cell_type": "code",
   "execution_count": 51,
   "metadata": {},
   "outputs": [],
   "source": [
    "# Initialization\n",
    "import numpy as np\n",
    "import matplotlib.pyplot as plt\n",
    "import scipy.stats as stats\n",
    "from tabulate import tabulate"
   ]
  },
  {
   "cell_type": "code",
   "execution_count": 43,
   "metadata": {},
   "outputs": [
    {
     "name": "stdout",
     "output_type": "stream",
     "text": [
      "|   I --> R |   I --> D |   I max mean |   I max sd | CI I max mean   |   D max mean |   D max sd | CI D max mean   |\n",
      "|-----------+-----------+--------------+------------+-----------------+--------------+------------+-----------------|\n",
      "|      0.01 |      0.01 |       892.52 |    156.996 | [861.21 923.83] |       955.63 |    167.928 | [922.14 989.12] |\n",
      "|      0.01 |      0.02 |       857.4  |    122.811 | [832.91 881.89] |       965.18 |    137.787 | [937.7  992.66] |\n",
      "|      0.01 |      0.05 |       745.43 |    107.402 | [724.01 766.85] |       965.77 |    137.866 | [938.28 993.26] |\n",
      "|      0.02 |      0.01 |       859    |    175.405 | [824.02 893.98] |       930.56 |    189.963 | [892.68 968.44] |\n",
      "|      0.02 |      0.02 |       837.15 |    120.07  | [813.21 861.09] |       950.95 |    135.95  | [923.84 978.06] |\n",
      "|      0.02 |      0.05 |       689.05 |    189.343 | [651.29 726.81] |       901.11 |    247.028 | [851.85 950.37] |\n",
      "|      0.05 |      0.01 |       814.9  |    116.784 | [791.61 838.19] |       904.04 |    129.322 | [878.25 929.83] |\n",
      "|      0.05 |      0.02 |       755.76 |    154.443 | [724.96 786.56] |       886.66 |    181.134 | [850.54 922.78] |\n",
      "|      0.05 |      0.05 |       633.49 |    174.282 | [598.73 668.25] |       857.69 |    235.248 | [810.78 904.6 ] |\n"
     ]
    }
   ],
   "source": [
    "# Initialize statitistics matrix\n",
    "statistics = np.array([np.zeros(8)])\n",
    "\n",
    "n = 1000\n",
    "\n",
    "# Fixed rates\n",
    "prob_R_S = 0.8\n",
    "prob_S_I = 0.7\n",
    "\n",
    "for prob_I_R in [0.01,0.02,0.05]:\n",
    "    for prob_I_D in [0.01,0.02,0.05]:\n",
    "\n",
    "        I_max = np.array([])\n",
    "        D_max = np.array([])\n",
    "\n",
    "        for i in range(100):\n",
    "\n",
    "            # Vector of states\n",
    "            states = np.repeat(\"S\",n)\n",
    "            states[0] = \"I\"\n",
    "\n",
    "            n_S = np.array([len(np.where(states == \"S\")[0])])\n",
    "            n_I = np.array([len(np.where(states == \"I\")[0])])\n",
    "            n_R = np.array([len(np.where(states == \"R\")[0])])\n",
    "            n_D = np.array([len(np.where(states == \"D\")[0])])\n",
    "\n",
    "\n",
    "            while \"I\" in states or \"R\" in states:\n",
    "\n",
    "                # Get positions of S, I, R\n",
    "                S_index = np.where(states == \"S\")[0]\n",
    "                I_index = np.where(states == \"I\")[0]\n",
    "                R_index = np.where(states == \"R\")[0]\n",
    "\n",
    "                # Update susceptible\n",
    "                prob_S_I_t = prob_S_I * len(I_index)/n\n",
    "                states[S_index] = np.random.choice(np.array([\"S\",\"I\"]),p = np.array([1-prob_S_I_t, prob_S_I_t]), size = len(S_index))\n",
    "\n",
    "\n",
    "                # Update infected\n",
    "                states[I_index] = np.random.choice(np.array([\"I\", \"R\", \"D\"]),p = np.array([1-prob_I_R - prob_I_D, prob_I_R, prob_I_D]), size = len(I_index))\n",
    "\n",
    "\n",
    "                # Update recovered\n",
    "                states[R_index] = np.random.choice(np.array([\"R\", \"S\"]),p = np.array([1-prob_R_S, prob_R_S]), size = len(R_index))\n",
    "\n",
    "\n",
    "                n_S = np.concatenate([n_S, np.array([len(np.where(states == \"S\")[0])])])\n",
    "                n_I = np.concatenate([n_I, np.array([len(np.where(states == \"I\")[0])])])\n",
    "                n_R = np.concatenate([n_R, np.array([len(np.where(states == \"R\")[0])])])\n",
    "                n_D = np.concatenate([n_D, np.array([len(np.where(states == \"D\")[0])])])\n",
    "\n",
    "\n",
    "            # Safe statistics for this combination of rates\n",
    "            I_max_run = np.max(n_I)\n",
    "            I_max = np.append(I_max, I_max_run)\n",
    "\n",
    "            D_max_run = np.max(n_D)\n",
    "            D_max = np.append(D_max, D_max_run)\n",
    "\n",
    "\n",
    "        # Update statistics matrix\n",
    "        # Infected\n",
    "        I_max_mean = np.mean(I_max)\n",
    "        I_max_sd = np.std(I_max)\n",
    "        conf_I = stats.t.interval(alpha=0.95, df=len(I_max)-1, loc=np.mean(I_max), scale=stats.sem(I_max))\n",
    "\n",
    "        # Deaths \n",
    "        D_max_mean = np.mean(D_max)\n",
    "        D_max_sd = np.std(D_max)\n",
    "        conf_D = stats.t.interval(alpha=0.95, df=len(D_max)-1, loc=np.mean(D_max), scale=stats.sem(D_max))\n",
    "        \n",
    "        # All stats\n",
    "        new_stats = (prob_I_R, prob_I_D, I_max_mean, I_max_sd, np.round(conf_I,2), D_max_mean, D_max_sd, np.round(conf_D,2))\n",
    "        statistics = np.vstack((statistics, new_stats))\n",
    "        \n",
    "\n",
    "# Print statistics table\n",
    "print(tabulate(statistics[1:,], headers=[\"I --> R\", \"I --> D\", \"I max mean\", \"I max sd\", \"CI I max mean\", \"D max mean\", \"D max sd\", \"CI D max mean\"], tablefmt='orgtbl'))\n",
    "        \n",
    "                "
   ]
  },
  {
   "cell_type": "markdown",
   "metadata": {},
   "source": [
    "As we see in the table, the closest to extinction we have been able to get is that a mean of 965 individuals out of 1000 die (in 100 simulations). The confidence interval for the mean of deaths lies highest with $prob_{IR} = 0.01$ and $prob_{ID} = 0.05$. Here, the 95% confidence interval for the mean number of deaths is $[938.28, 993.26]$. \n",
    "This means that we have not been able to find a combination of parameters where all individuals in our population die. But as we have not tried every possible combination of parameters, we can't say for sure that it will never happen.\n",
    "\n",
    "Below we have plotted one simulation of an epidemic with the \"optimal\" parameters found above; \n",
    "$$prob_{RS} = 0.8\\\\\n",
    "prob_{SI} = 0.7\\\\\n",
    "prob_{IR} = 0.01\\\\\n",
    "prob_{ID} = 0.05$$"
   ]
  },
  {
   "cell_type": "code",
   "execution_count": 45,
   "metadata": {},
   "outputs": [
    {
     "data": {
      "image/png": "[encoded data removed]",
      "text/plain": [
       "<Figure size 432x288 with 1 Axes>"
      ]
     },
     "metadata": {
      "needs_background": "light"
     },
     "output_type": "display_data"
    }
   ],
   "source": [
    "# Vector of states\n",
    "states = np.repeat(\"S\",n)\n",
    "states[0] = \"I\"\n",
    "\n",
    "# Probabilities of entering different states\n",
    "prob_R_S = 0.8\n",
    "prob_S_I = 0.7\n",
    "prob_I_R = 0.01\n",
    "prob_I_D = 0.05\n",
    "\n",
    "n_S = np.array([len(np.where(states == \"S\")[0])])\n",
    "n_I = np.array([len(np.where(states == \"I\")[0])])\n",
    "n_R = np.array([len(np.where(states == \"R\")[0])])\n",
    "n_D = np.array([len(np.where(states == \"D\")[0])])\n",
    "\n",
    "\n",
    "while \"I\" in states or \"R\" in states:\n",
    "\n",
    "    # Get positions of S, I, R\n",
    "    S_index = np.where(states == \"S\")[0]\n",
    "    I_index = np.where(states == \"I\")[0]\n",
    "    R_index = np.where(states == \"R\")[0]\n",
    "\n",
    "    # Update susceptible\n",
    "    prob_S_I_t = prob_S_I * len(I_index)/n\n",
    "    states[S_index] = np.random.choice(np.array([\"S\",\"I\"]),p = np.array([1-prob_S_I_t, prob_S_I_t]), size = len(S_index))\n",
    "\n",
    "\n",
    "    # Update infected\n",
    "    states[I_index] = np.random.choice(np.array([\"I\", \"R\", \"D\"]),p = np.array([1-prob_I_R - prob_I_D, prob_I_R, prob_I_D]), size = len(I_index))\n",
    "\n",
    "\n",
    "    # Update recovered\n",
    "    states[R_index] = np.random.choice(np.array([\"R\", \"S\"]),p = np.array([1-prob_R_S, prob_R_S]), size = len(R_index))\n",
    "\n",
    "\n",
    "    n_S = np.concatenate([n_S, np.array([len(np.where(states == \"S\")[0])])])\n",
    "    n_I = np.concatenate([n_I, np.array([len(np.where(states == \"I\")[0])])])\n",
    "    n_R = np.concatenate([n_R, np.array([len(np.where(states == \"R\")[0])])])\n",
    "    n_D = np.concatenate([n_D, np.array([len(np.where(states == \"D\")[0])])])\n",
    "                \n",
    "plt.figure()\n",
    "plt.plot(n_S, \"-b\", label = \"Susceptible\")\n",
    "plt.plot(n_I, \"-r\", label = \"Infected\")\n",
    "plt.plot(n_R, \"-g\", label = \"Recovered\")\n",
    "plt.plot(n_D, \"-0\", label = \"Dead\")\n",
    "plt.ylabel(\"Number of people\")\n",
    "plt.xlabel(\"Days\")\n",
    "plt.legend()\n",
    "plt.show()"
   ]
  },
  {
   "cell_type": "markdown",
   "metadata": {},
   "source": [
    "With these parameter values, we see that the number of infected individuals is highest after approximately 18 days but that the epidemic lasts more than 100 days all together. We see very few recovered individuals at all times which makes sense as the probability of going from recovered to susceptible is 0.8 in each time step. After the initial decline, we also see very few susceptibles at all times. This also makes sense as the probability of going from susceptible to infected in each time step is 0.7. These probabilities lead to the high number of deaths as the individuals will go very quicly between susceptible, infected, and recovered again and again until they die.  \n",
    "The number of infected individuals gradually declines after the maximum has been reached. The slow decline is due to the constant emergance of new susceptibles that then become infected. "
   ]
  }
 ],
 "metadata": {
  "kernelspec": {
   "display_name": "Python 3",
   "language": "python",
   "name": "python3"
  },
  "language_info": {
   "codemirror_mode": {
    "name": "ipython",
    "version": 3
   },
   "file_extension": ".py",
   "mimetype": "text/x-python",
   "name": "python",
   "nbconvert_exporter": "python",
   "pygments_lexer": "ipython3",
   "version": "3.8.8"
  }
 },
 "nbformat": 4,
 "nbformat_minor": 4
}
