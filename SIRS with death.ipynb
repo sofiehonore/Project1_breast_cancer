{
 "cells": [
  {
   "cell_type": "code",
   "execution_count": 2,
   "metadata": {},
   "outputs": [],
   "source": [
    "# Initialization\n",
    "import numpy as np\n",
    "import matplotlib.pyplot as plt\n",
    "import scipy.stats as stats"
   ]
  },
  {
   "cell_type": "code",
   "execution_count": 3,
   "metadata": {},
   "outputs": [],
   "source": [
    "n = 1000\n",
    "\n",
    "# Vector of states\n",
    "states = np.repeat(\"S\",n)\n",
    "states[0] = \"I\"\n",
    "\n",
    "# Probabilities of entering different states\n",
    "prob_S_I = 0.95\n",
    "prob_I_R = 0.2\n",
    "prob_R_S = 0.8\n",
    "prob_I_D = 0.06\n",
    "\n",
    "n_S = np.array([len(np.where(states == \"S\")[0])])\n",
    "n_I = np.array([len(np.where(states == \"I\")[0])])\n",
    "n_R = np.array([len(np.where(states == \"R\")[0])])\n",
    "n_D = np.array([len(np.where(states == \"D\")[0])])\n",
    "\n",
    "\n",
    "while \"I\" in states or \"R\" in states:\n",
    "    \n",
    "    # Get positions of S, I, R\n",
    "    S_index = np.where(states == \"S\")[0]\n",
    "    I_index = np.where(states == \"I\")[0]\n",
    "    R_index = np.where(states == \"R\")[0]\n",
    "\n",
    "    # Update susceptible\n",
    "    prob_S_I_t = prob_S_I * len(I_index)/n\n",
    "    states[S_index] = np.random.choice(np.array([\"S\",\"I\"]),p = np.array([1-prob_S_I_t, prob_S_I_t]), size = len(S_index))\n",
    "\n",
    "\n",
    "    # Update infected\n",
    "    states[I_index] = np.random.choice(np.array([\"I\", \"R\", \"D\"]),p = np.array([1-prob_I_R - prob_I_D, prob_I_R, prob_I_D]), size = len(I_index))\n",
    "\n",
    "\n",
    "    # Update recovered\n",
    "    states[R_index] = np.random.choice(np.array([\"R\", \"S\"]),p = np.array([1-prob_R_S, prob_R_S]), size = len(R_index))\n",
    "\n",
    "    \n",
    "    n_S = np.concatenate([n_S, np.array([len(np.where(states == \"S\")[0])])])\n",
    "    n_I = np.concatenate([n_I, np.array([len(np.where(states == \"I\")[0])])])\n",
    "    n_R = np.concatenate([n_R, np.array([len(np.where(states == \"R\")[0])])])\n",
    "    n_D = np.concatenate([n_D, np.array([len(np.where(states == \"D\")[0])])])"
   ]
  },
  {
   "cell_type": "code",
   "execution_count": null,
   "metadata": {},
   "outputs": [],
   "source": [
    "plt.figure()\n",
    "plt.plot(n_S, \"-b\", label = \"Susceptible\")\n",
    "plt.plot(n_I, \"-r\", label = \"Infected\")\n",
    "plt.plot(n_R, \"-g\", label = \"Recovered\")\n",
    "plt.plot(n_D, \"-0\", label = \"Dead\")\n",
    "plt.ylabel(\"Number of people\")\n",
    "plt.xlabel(\"Days\")\n",
    "plt.legend()\n",
    "plt.show()\n",
    "\n",
    "plt.figure()\n",
    "plt.plot(n_S, \"-b\", label = \"Susceptible\")\n",
    "plt.plot(n_I, \"-r\", label = \"Infected\")\n",
    "plt.plot(n_R, \"-g\", label = \"Recovered\")\n",
    "plt.plot(n_D, \"-0\", label = \"Dead\")\n",
    "plt.ylabel(\"Number of people\")\n",
    "plt.xlabel(\"Days\")\n",
    "plt.xlim(0,100)\n",
    "plt.legend()\n",
    "plt.show()\n",
    "\n",
    "print(\"Maximum number of infected: \", max(n_I))\n",
    "print(\"Number of dead individuals after ended epedemic: \", n_D[-1])"
   ]
  },
  {
   "cell_type": "code",
   "execution_count": null,
   "metadata": {},
   "outputs": [],
   "source": []
  }
 ],
 "metadata": {
  "kernelspec": {
   "display_name": "Python 3",
   "language": "python",
   "name": "python3"
  },
  "language_info": {
   "codemirror_mode": {
    "name": "ipython",
    "version": 3
   },
   "file_extension": ".py",
   "mimetype": "text/x-python",
   "name": "python",
   "nbconvert_exporter": "python",
   "pygments_lexer": "ipython3",
   "version": "3.8.5"
  }
 },
 "nbformat": 4,
 "nbformat_minor": 4
}
