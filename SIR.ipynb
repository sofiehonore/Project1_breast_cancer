{
 "cells": [
  {
   "cell_type": "markdown",
   "metadata": {},
   "source": [
    "# Introduction"
   ]
  },
  {
   "cell_type": "code",
   "execution_count": 5,
   "metadata": {},
   "outputs": [],
   "source": [
    "# Initialization\n",
    "import numpy as np\n",
    "import matplotlib.pyplot as plt\n",
    "import scipy.stats as stats"
   ]
  },
  {
   "cell_type": "code",
   "execution_count": 6,
   "metadata": {},
   "outputs": [
    {
     "name": "stdout",
     "output_type": "stream",
     "text": [
      "The likelihood that the disease dies out after 30 days: 0.244\n"
     ]
    }
   ],
   "source": [
    "n_runs = 1000\n",
    "time_break = 30\n",
    "p_vector = np.array([])\n",
    "\n",
    "for i in range(n_runs):\n",
    "    time_counter = 0 \n",
    "    n = 1000\n",
    "\n",
    "    # Vector of states\n",
    "    states = np.repeat(\"S\",n)\n",
    "    states[0] = \"I\"\n",
    "\n",
    "    # Probabilities of entering \n",
    "    prob_S_I = 0.9\n",
    "    prob_I_R = 0.3\n",
    "\n",
    "    n_S = np.array([len(np.where(states == \"S\")[0])])\n",
    "    n_I = np.array([len(np.where(states == \"I\")[0])])\n",
    "    n_R = np.array([len(np.where(states == \"R\")[0])])\n",
    "\n",
    "\n",
    "    while (\"I\" in states):\n",
    "        \n",
    "        # Get positions of S, I, R\n",
    "        S_index = np.where(states == \"S\")[0]\n",
    "        I_index = np.where(states == \"I\")[0]\n",
    "        R_index = np.where(states == \"R\")[0]\n",
    "\n",
    "        # Update susceptible\n",
    "        prob_S_I_t = prob_S_I * len(I_index)/n\n",
    "        states[S_index] = np.random.choice(np.array([\"S\",\"I\"]),p = np.array([1-prob_S_I_t, prob_S_I_t]), size = len(S_index))\n",
    "\n",
    "\n",
    "        # Update infected\n",
    "        states[I_index] = np.random.choice(np.array([\"I\", \"R\"]),p = np.array([1-prob_I_R, prob_I_R]), size = len(I_index))\n",
    "\n",
    "\n",
    "        n_S = np.concatenate([n_S, np.array([len(np.where(states == \"S\")[0])])])\n",
    "        n_I = np.concatenate([n_I, np.array([len(np.where(states == \"I\")[0])])])\n",
    "        n_R = np.concatenate([n_R, np.array([len(np.where(states == \"R\")[0])])])\n",
    "        \n",
    "        time_counter += 1\n",
    "        \n",
    "        \n",
    "    if len(n_I) > time_break:\n",
    "        p_vector = np.concatenate([p_vector, np.array([1])])\n",
    "    else:\n",
    "        p_vector = np.concatenate([p_vector, np.array([0])])\n",
    "        \n",
    "likelihood = np.sum(p_vector)/len(p_vector)\n",
    "\n",
    "print(\"The likelihood that the disease dies out after {} days: {}\".format(time_break,np.round(1-likelihood,3)))"
   ]
  },
  {
   "cell_type": "code",
   "execution_count": null,
   "metadata": {},
   "outputs": [],
   "source": [
    "plt.figure()\n",
    "plt.plot(n_S, \"-b\", label = \"Susceptible\")\n",
    "plt.plot(n_I, \"-r\", label = \"Infected\")\n",
    "plt.plot(n_R, \"-g\", label = \"Recovered\")\n",
    "plt.ylabel(\"Number of people\")\n",
    "plt.xlabel(\"Days\")\n",
    "plt.legend()\n",
    "plt.show()\n",
    "\n",
    "print(\"Maximum number of infected: \", max(n_I))"
   ]
  }
 ],
 "metadata": {
  "kernelspec": {
   "display_name": "Python 3",
   "language": "python",
   "name": "python3"
  },
  "language_info": {
   "codemirror_mode": {
    "name": "ipython",
    "version": 3
   },
   "file_extension": ".py",
   "mimetype": "text/x-python",
   "name": "python",
   "nbconvert_exporter": "python",
   "pygments_lexer": "ipython3",
   "version": "3.8.5"
  }
 },
 "nbformat": 4,
 "nbformat_minor": 4
}
