{
 "cells": [
  {
   "cell_type": "markdown",
   "metadata": {},
   "source": [
    "SIR models are mathematical models used to simulate the spread of a disease in a population. The basic SIR model is based on the assumption that people can be in one out of three compartments at time t: Susceptible (S), Infected (I) and Recovered (R). The total amount of people in the system is constant at all times - meaning that no people leave or enter the system. In this project, the movement from S to I and I to R is determined by probabilities. The probability of going from S to I is dependent on the share of infected individuals (more infected people induce increased risk of a meeting between a susceptible and an infected), and  the probability of going from I to R is constant at all times, and does not depend on any conditions in the model. \n",
    "In this project we will implement this SIR model and investigate the dynamics when using different parameter values. Furthermore we will investigate the dynamics when implementing more compartments (e.g. an \"Exposed\" compartment), more paths between compartments, and finally we will simulate how different subgroups (families, worksgroups) might affect the dynamics.\n",
    "\n",
    "We have chosen to simulate the disease dynamics of a total of 1000 people, initially with 1 infected individual (patient zero), 999 susceptible and 0 recovered. In the specific case of a basic SIR model, people can only move from S to I and from I to R, meaning that the system will reach steady states either when all people have reached recovered state or if there are no infected people left. This is done for different value combinations of the two probabilities: 0.2, 0.5 and 0.8. \n",
    "\n",
    "As the model is stochastic and based on probabilities, runs might vary even though the parameters are the same. Therefore, for every parameter combination, we run 100 simulations, and different statistics are obtained, for example the mean number of infected of these 100 runs. \n",
    "\n",
    "With the SIR model we investigate the likelihood for the disease to disappear. In a standard SIR model, the disease will always die out at some point, as the simulation will always reach a state where all individuals are recovered, or when there are no infected people left. Therefore, we investigate how long it takes before there are no infected people left (either because there are no susceptible, or that the last infected individual recovers before the next is infected).\n",
    "Furthermore we also investigate how often the epidemic disappears before 30 days have passed, which is done by saving the number of times out of the 100 runs, that the disease disappears within 30 days, and calculating the probability of this."
   ]
  },
  {
   "cell_type": "code",
   "execution_count": 1,
   "metadata": {},
   "outputs": [],
   "source": [
    "# Initialization\n",
    "import numpy as np\n",
    "import matplotlib.pyplot as plt\n",
    "import scipy.stats as stats\n",
    "from tabulate import tabulate"
   ]
  },
  {
   "cell_type": "code",
   "execution_count": 8,
   "metadata": {},
   "outputs": [],
   "source": [
    "prob_S_I_list = [0.2, 0.5, 0.8]\n",
    "prob_I_R_list = [0.2, 0.5, 0.8] \n",
    "\n",
    "n_runs = 100\n",
    "time_break = 30\n",
    "# Number of people\n",
    "n = 1000\n",
    "\n",
    "# Inititalize matrix of statistics\n",
    "header = [\"S --> I\",\"I --> R\", \"I max mean\", \"CI of mean\",  \"time at I max\", \"time when\\n no I left\" ,\"Likelihood that\\n the disease \\n disappears\\n within 30 days\"]\n",
    "statistics = np.array(header)\n",
    "\n",
    "# First parameter value\n",
    "for prob1 in prob_S_I_list:\n",
    "    # Second parameter value\n",
    "    for prob2 in prob_I_R_list:\n",
    "        \n",
    "        # Initialize vectors of statistics\n",
    "        p_vector = np.array([])\n",
    "        p_vector_t = np.array([])\n",
    "        I_max = np.array([])\n",
    "        I_max_t = np.array([])\n",
    "        \n",
    "        # Run n simulations\n",
    "        for i in range(n_runs):\n",
    "            \n",
    "            # Vector of states\n",
    "            states = np.repeat(\"S\",n)\n",
    "            states[0] = \"I\"\n",
    "\n",
    "            # Probabilities of going from S to I and I to R\n",
    "            prob_S_I = prob1\n",
    "            prob_I_R = prob2\n",
    "            \n",
    "            # Calculate number of people in different groups\n",
    "            n_S = np.array([len(np.where(states == \"S\")[0])])\n",
    "            n_I = np.array([len(np.where(states == \"I\")[0])])\n",
    "            n_R = np.array([len(np.where(states == \"R\")[0])])\n",
    "\n",
    "            # Simulate until no infected left\n",
    "            while (\"I\" in states):\n",
    "\n",
    "                # Get positions of S, I, R\n",
    "                S_index = np.where(states == \"S\")[0]\n",
    "                I_index = np.where(states == \"I\")[0]\n",
    "                R_index = np.where(states == \"R\")[0]\n",
    "\n",
    "                # Update susceptible\n",
    "                prob_S_I_t = prob_S_I * len(I_index)/n\n",
    "                states[S_index] = np.random.choice(np.array([\"S\",\"I\"]),p = np.array([1-prob_S_I_t, prob_S_I_t]), size = len(S_index))\n",
    "\n",
    "                # Update infected\n",
    "                states[I_index] = np.random.choice(np.array([\"I\", \"R\"]),p = np.array([1-prob_I_R, prob_I_R]), size = len(I_index))\n",
    "                \n",
    "                # Calculate number of people in different groups\n",
    "                n_S = np.concatenate([n_S, np.array([len(np.where(states == \"S\")[0])])])\n",
    "                n_I = np.concatenate([n_I, np.array([len(np.where(states == \"I\")[0])])])\n",
    "                n_R = np.concatenate([n_R, np.array([len(np.where(states == \"R\")[0])])])\n",
    "\n",
    "                \n",
    "            # Save statistics in vectors\n",
    "            I_max = np.concatenate([I_max, np.array([np.max(n_I)])])\n",
    "            I_max_t = np.concatenate([I_max_t, np.array([np.argmax(n_I, axis=0)])])\n",
    "            #I_max_t = np.argmax(n_I, axis=0)\n",
    "            \n",
    "            p_vector_t = np.concatenate([p_vector_t, np.array([len(n_I)])])\n",
    "            if len(n_I) > time_break:\n",
    "                p_vector = np.concatenate([p_vector, np.array([1])])\n",
    "            else:\n",
    "                p_vector = np.concatenate([p_vector, np.array([0])])\n",
    "                                          \n",
    "        # Analyse statistics\n",
    "        I_max_mean = np.mean(I_max)\n",
    "        I_max_sd = np.std(I_max)\n",
    "        \n",
    "        I_max_t_mean = np.mean(I_max_t)\n",
    "        I_max_t_sd = np.std(I_max_t)\n",
    "        \n",
    "        p_vector_t_mean = np.mean(p_vector_t)\n",
    "        likelihood = np.sum(p_vector)/len(p_vector)\n",
    "\n",
    "        conf = stats.norm.interval(alpha=0.95, loc=np.mean(I_max), scale=stats.sem(I_max))\n",
    "        \n",
    "        new_stats = (prob_S_I, prob_I_R, I_max_mean, np.round(conf,2), I_max_t_mean,p_vector_t_mean, np.round(1-likelihood,3))\n",
    "        statistics = np.vstack((statistics, new_stats))\n",
    "                                          \n"
   ]
  },
  {
   "cell_type": "markdown",
   "metadata": {
    "variables": {
     "n_runs": "100"
    }
   },
   "source": [
    "The statistical results of the {{n_runs}} runs are shown below. The first two columns indicate the combinations of probabilities (S --> I and I --> R). The rest of the columns are the statistical parameters based on the 100 runs. The first column indicates the mean of the maximum number of infected for the 100 runs, and is followed by a column of confidence intervals. *time at I max* is the time point (in days) that the maximum number of infected is seen. *time when no I left* indicates the time point where no infected people are left, hence, the epidemic has disappeared. *Likelihood that the disease disappears after 30 days* is the fraction of runs out of the 100 runs where the epidemic ended before 30 days. "
   ]
  },
  {
   "cell_type": "code",
   "execution_count": 9,
   "metadata": {
    "scrolled": true
   },
   "outputs": [
    {
     "name": "stdout",
     "output_type": "stream",
     "text": [
      "|   S --> I |   I --> R |   I max mean | CI of mean      |   time at I max |    time when |   Likelihood that |\n",
      "|           |           |              |                 |                 |    no I left |      the disease  |\n",
      "|           |           |              |                 |                 |              |        disappears |\n",
      "|           |           |              |                 |                 |              |    within 30 days |\n",
      "|-----------+-----------+--------------+-----------------+-----------------+--------------+-------------------|\n",
      "|       0.2 |       0.2 |         3.17 | [2.37 3.97]     |            7.13 |        18.01 |              0.83 |\n",
      "|       0.2 |       0.5 |         1.25 | [1.14 1.36]     |            0.35 |         3.44 |              1    |\n",
      "|       0.2 |       0.8 |         1.15 | [1.07 1.23]     |            0.25 |         2.8  |              1    |\n",
      "|       0.5 |       0.2 |       194.63 | [172.38 216.88] |           19.51 |        51.93 |              0.25 |\n",
      "|       0.5 |       0.5 |         2.86 | [2.13 3.59]     |            2.93 |         8.4  |              0.93 |\n",
      "|       0.5 |       0.8 |         1.56 | [1.33 1.79]     |            0.59 |         3.49 |              1    |\n",
      "|       0.8 |       0.2 |       392.91 | [364.1  421.72] |           14.91 |        45.53 |              0.12 |\n",
      "|       0.8 |       0.5 |        37.13 | [27.63 46.63]   |            8.3  |        19.01 |              0.62 |\n",
      "|       0.8 |       0.8 |         3.74 | [2.79 4.69]     |            3.03 |         8.26 |              0.95 |\n"
     ]
    }
   ],
   "source": [
    "print(tabulate(statistics[1:,], headers=statistics[0], tablefmt='orgtbl'))"
   ]
  },
  {
   "cell_type": "markdown",
   "metadata": {},
   "source": [
    "As can be seen from the results above, the largest mean of number of infected is obtained when the probability of going from S to I is relatively high (0.5 or 0.8) and the probability of recovering is low (0.2). This is reasonable, as these scenarios will result in a lot of infected people for a long time, and few people recovering in each time step. This means that the infected people have a longer infectious period, and the disease spreads more. These scenarios are also the instances where the epidemic lasts the longest (see the columns *time when no I left* and *likelihood that the disease disappears within 30 days*). \n",
    "\n",
    "With some parameter combinations, the likelihood that the disease dies out within 30 days is exactly 1, but the maximum number of infected is also low (mean around 1) with a narrow confidence interval in these cases, which means that the epidemic with these parameter combinations never really \"took off\". This makes sense, since the probability of getting infected is low, so there is a high chance that nobody gets infected before patient zero is recovered, resulting in no epidemic. "
   ]
  },
  {
   "cell_type": "markdown",
   "metadata": {},
   "source": [
    "Below, an example of the dynamics is seen for a run with the parameters 0.8 (probability of going from S to I) and 0.2 (probability of going from I to R). "
   ]
  },
  {
   "cell_type": "code",
   "execution_count": 13,
   "metadata": {},
   "outputs": [],
   "source": [
    "time_counter = 0 \n",
    "n = 1000\n",
    "\n",
    "# Vector of states\n",
    "states = np.repeat(\"S\",n)\n",
    "states[0] = \"I\"\n",
    "\n",
    "# Probabilities of entering \n",
    "prob_S_I = 0.8\n",
    "prob_I_R = 0.2\n",
    "\n",
    "n_S = np.array([len(np.where(states == \"S\")[0])])\n",
    "n_I = np.array([len(np.where(states == \"I\")[0])])\n",
    "n_R = np.array([len(np.where(states == \"R\")[0])])\n",
    "\n",
    "\n",
    "while (\"I\" in states):\n",
    "\n",
    "    # Get positions of S, I, R\n",
    "    S_index = np.where(states == \"S\")[0]\n",
    "    I_index = np.where(states == \"I\")[0]\n",
    "    R_index = np.where(states == \"R\")[0]\n",
    "\n",
    "    # Update susceptible\n",
    "    prob_S_I_t = prob_S_I * len(I_index)/n\n",
    "    states[S_index] = np.random.choice(np.array([\"S\",\"I\"]),p = np.array([1-prob_S_I_t, prob_S_I_t]), size = len(S_index))\n",
    "\n",
    "\n",
    "    # Update infected\n",
    "    states[I_index] = np.random.choice(np.array([\"I\", \"R\"]),p = np.array([1-prob_I_R, prob_I_R]), size = len(I_index))\n",
    "\n",
    "\n",
    "    n_S = np.concatenate([n_S, np.array([len(np.where(states == \"S\")[0])])])\n",
    "    n_I = np.concatenate([n_I, np.array([len(np.where(states == \"I\")[0])])])\n",
    "    n_R = np.concatenate([n_R, np.array([len(np.where(states == \"R\")[0])])])\n",
    "\n",
    "    time_counter += 1"
   ]
  },
  {
   "cell_type": "code",
   "execution_count": 14,
   "metadata": {},
   "outputs": [
    {
     "data": {
      "image/png": "[encoded data removed]",
      "text/plain": [
       "<Figure size 432x288 with 1 Axes>"
      ]
     },
     "metadata": {
      "needs_background": "light"
     },
     "output_type": "display_data"
    },
    {
     "name": "stdout",
     "output_type": "stream",
     "text": [
      "Maximum number of infected:  481\n"
     ]
    }
   ],
   "source": [
    "plt.figure()\n",
    "plt.plot(n_S, \"-b\", label = \"Susceptible\")\n",
    "plt.plot(n_I, \"-r\", label = \"Infected\")\n",
    "plt.plot(n_R, \"-g\", label = \"Recovered\")\n",
    "plt.ylabel(\"Number of people\")\n",
    "plt.xlabel(\"Days\")\n",
    "plt.title(\"probability of S -> I: {}, probability of I -> R: {}\".format(prob_S_I, prob_I_R))\n",
    "plt.legend()\n",
    "plt.show()\n",
    "\n",
    "print(\"Maximum number of infected: \", max(n_I))"
   ]
  },
  {
   "cell_type": "markdown",
   "metadata": {
    "variables": {
     "np.max(n_I)": "481"
    }
   },
   "source": [
    "From this plot, we see that the maximum number of infected is {{np.max(n_I)}}, which is reached around day 17. It is also evident, that all (or almost all) individuals become infected at some point, as the dynamics end with almost 0 susceptible and around 1000 recovered. "
   ]
  },
  {
   "cell_type": "code",
   "execution_count": null,
   "metadata": {},
   "outputs": [],
   "source": []
  }
 ],
 "metadata": {
  "kernelspec": {
   "display_name": "Python 3",
   "language": "python",
   "name": "python3"
  },
  "language_info": {
   "codemirror_mode": {
    "name": "ipython",
    "version": 3
   },
   "file_extension": ".py",
   "mimetype": "text/x-python",
   "name": "python",
   "nbconvert_exporter": "python",
   "pygments_lexer": "ipython3",
   "version": "3.8.5"
  }
 },
 "nbformat": 4,
 "nbformat_minor": 4
}
