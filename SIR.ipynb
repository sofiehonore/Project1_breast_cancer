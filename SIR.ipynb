{
 "cells": [
  {
   "cell_type": "markdown",
   "metadata": {},
   "source": [
    "What is the SIR model\n",
    "\n",
    "SIR model are mathematical models used to simulate the spread of a disease in a population, based on the assumption that people can be in one out of three compartments at time t: Susceptible (S), Infected (I) and Recovered (R). The total amount of people in the system are constant at all times - meaning that no people leave or enter the system. \n",
    "\n",
    "We have chosen to simulate the disease dynamics of 1000 people, initially with 1 infected individual, 999 susceptible and 0 recovered. In the specific case of a basic SIR model, people can only move from S to I and from I to R, meaning that the system will reach steady states either when all people have reached recovered state or if there are no infected people left.\n",
    "\n",
    "As the model is stochastic and based on probabilities, runs might vary even though the parameters are the same. Therefore, for every parameter combination, the simulation is run 100 times, and different statistics are obtained, for example the mean number of infected of these 100 runs. "
   ]
  },
  {
   "cell_type": "code",
   "execution_count": 20,
   "metadata": {},
   "outputs": [],
   "source": [
    "# Initialization\n",
    "import numpy as np\n",
    "import matplotlib.pyplot as plt\n",
    "import scipy.stats as stats\n",
    "from tabulate import tabulate"
   ]
  },
  {
   "cell_type": "code",
   "execution_count": 81,
   "metadata": {},
   "outputs": [
    {
     "name": "stdout",
     "output_type": "stream",
     "text": [
      "<class 'numpy.ndarray'>\n",
      "(0.2, 0.2, 3.58, array([2.41, 4.75]), 6.1)\n",
      "<class 'numpy.ndarray'>\n",
      "(0.2, 0.5, 1.26, array([1.17, 1.35]), 0.46)\n",
      "<class 'numpy.ndarray'>\n",
      "(0.2, 0.8, 1.08, array([1.01, 1.15]), 0.07)\n",
      "<class 'numpy.ndarray'>\n",
      "(0.5, 0.2, 176.44, array([152.91, 199.97]), 19.07)\n",
      "<class 'numpy.ndarray'>\n",
      "(0.5, 0.5, 3.32, array([2.26, 4.38]), 3.29)\n",
      "<class 'numpy.ndarray'>\n",
      "(0.5, 0.8, 1.38, array([1.22, 1.54]), 0.43)\n",
      "<class 'numpy.ndarray'>\n",
      "(0.8, 0.2, 383.31, array([351.39, 415.23]), 14.31)\n",
      "<class 'numpy.ndarray'>\n",
      "(0.8, 0.5, 53.47, array([44.13, 62.81]), 12.46)\n",
      "<class 'numpy.ndarray'>\n",
      "(0.8, 0.8, 2.53, array([1.79, 3.27]), 1.83)\n"
     ]
    }
   ],
   "source": [
    "prob_S_I_list = [0.2, 0.5, 0.8]\n",
    "prob_I_R_list = [0.2, 0.5, 0.8] \n",
    "\n",
    "n_runs = 100\n",
    "time_break = 30\n",
    "\n",
    "statistics = np.array([np.zeros(5)])\n",
    "# First parameter value\n",
    "for prob1 in prob_S_I_list:\n",
    "    # Second parameter value\n",
    "    for prob2 in prob_I_R_list:\n",
    "        # Run n simulations\n",
    "        p_vector = np.array([])\n",
    "        I_max = np.array([])\n",
    "        I_max_t = np.array([])\n",
    "        for i in range(n_runs):\n",
    "            time_counter = 0 \n",
    "            n = 1000\n",
    "\n",
    "            # Vector of states\n",
    "            states = np.repeat(\"S\",n)\n",
    "            states[0] = \"I\"\n",
    "\n",
    "            # Probabilities of entering \n",
    "            prob_S_I = prob1\n",
    "            prob_I_R = prob2\n",
    "\n",
    "            n_S = np.array([len(np.where(states == \"S\")[0])])\n",
    "            n_I = np.array([len(np.where(states == \"I\")[0])])\n",
    "            n_R = np.array([len(np.where(states == \"R\")[0])])\n",
    "\n",
    "\n",
    "            while (\"I\" in states):\n",
    "\n",
    "                # Get positions of S, I, R\n",
    "                S_index = np.where(states == \"S\")[0]\n",
    "                I_index = np.where(states == \"I\")[0]\n",
    "                R_index = np.where(states == \"R\")[0]\n",
    "\n",
    "                # Update susceptible\n",
    "                prob_S_I_t = prob_S_I * len(I_index)/n\n",
    "                states[S_index] = np.random.choice(np.array([\"S\",\"I\"]),p = np.array([1-prob_S_I_t, prob_S_I_t]), size = len(S_index))\n",
    "\n",
    "\n",
    "                # Update infected\n",
    "                states[I_index] = np.random.choice(np.array([\"I\", \"R\"]),p = np.array([1-prob_I_R, prob_I_R]), size = len(I_index))\n",
    "\n",
    "\n",
    "                n_S = np.concatenate([n_S, np.array([len(np.where(states == \"S\")[0])])])\n",
    "                n_I = np.concatenate([n_I, np.array([len(np.where(states == \"I\")[0])])])\n",
    "                n_R = np.concatenate([n_R, np.array([len(np.where(states == \"R\")[0])])])\n",
    "\n",
    "                time_counter += 1\n",
    "                \n",
    "                \n",
    "            # Save statistics\n",
    "            I_max = np.concatenate([I_max, np.array([np.max(n_I)])])\n",
    "            I_max_t = np.concatenate([I_max_t, np.array([np.argmax(n_I, axis=0)])])\n",
    "            #I_max_t = np.argmax(n_I, axis=0)\n",
    "            \n",
    "            if len(n_I) > time_break:\n",
    "                p_vector = np.concatenate([p_vector, np.array([1])])\n",
    "            else:\n",
    "                p_vector = np.concatenate([p_vector, np.array([0])])\n",
    "        \n",
    "        # Analyse statistics\n",
    "        I_max_mean = np.mean(I_max)\n",
    "        I_max_sd = np.std(I_max)\n",
    "        \n",
    "        I_max_t_mean = np.mean(I_max_t)\n",
    "        I_max_t_sd = np.std(I_max_t)\n",
    "    \n",
    "        print(type(I_max))\n",
    "        \n",
    "        conf = stats.norm.interval(alpha=0.95, loc=np.mean(I_max), scale=stats.sem(I_max))\n",
    "        \n",
    "        \n",
    "        new_stats = (prob_S_I, prob_I_R, I_max_mean, np.round(conf,2), I_max_t_mean)\n",
    "        print(new_stats)\n",
    "        statistics = np.vstack((statistics, new_stats))\n",
    "        \n",
    "        #print(\"Maximum infected\")\n",
    "        #print(\"mean: \", I_max_mean, \"CI: \", conf)\n",
    "        #print(\"sd: \", np.round(I_max_sd,2))\n",
    "        #print(\"----------------------\")\n",
    "\n",
    "        #likelihood = np.sum(p_vector)/len(p_vector)\n",
    "        \n",
    "        #print(\"The likelihood that the disease dies out after {} days: {}\".format(time_break,np.round(1-likelihood,3)))\n",
    "        \n"
   ]
  },
  {
   "cell_type": "code",
   "execution_count": null,
   "metadata": {},
   "outputs": [],
   "source": [
    "plt.figure()\n",
    "plt.plot(n_S, \"-b\", label = \"Susceptible\")\n",
    "plt.plot(n_I, \"-r\", label = \"Infected\")\n",
    "plt.plot(n_R, \"-g\", label = \"Recovered\")\n",
    "plt.ylabel(\"Number of people\")\n",
    "plt.xlabel(\"Days\")\n",
    "plt.legend()\n",
    "plt.show()\n",
    "\n",
    "print(\"Maximum number of infected: \", max(n_I))"
   ]
  },
  {
   "cell_type": "code",
   "execution_count": null,
   "metadata": {},
   "outputs": [],
   "source": [
    "### Results\n"
   ]
  },
  {
   "cell_type": "markdown",
   "metadata": {},
   "source": [
    "display(Latex(str(3)))"
   ]
  },
  {
   "cell_type": "markdown",
   "metadata": {
    "variables": {
     "a": "<p><strong>NameError</strong>: name &#39;a&#39; is not defined</p>\n"
    }
   },
   "source": [
    "{{a}}"
   ]
  },
  {
   "cell_type": "markdown",
   "metadata": {
    "variables": {
     "n_runs": "100"
    }
   },
   "source": [
    "The statistical results of the {{n_runs}} runs are shown below. This includes the tested probabilities (S --> I and I --> R), the maximum number of infected and the time at which this happens. Furthermore the confidence intervals for the mean of the maximum number of infected is shown. "
   ]
  },
  {
   "cell_type": "code",
   "execution_count": 79,
   "metadata": {},
   "outputs": [
    {
     "name": "stdout",
     "output_type": "stream",
     "text": [
      "|   S --> I |   I --> R |   I max mean | CI              |   time at I max |\n",
      "|-----------+-----------+--------------+-----------------+-----------------|\n",
      "|       0.2 |       0.2 |         3.42 | [2.55 4.29]     |            6.24 |\n",
      "|       0.2 |       0.5 |         1.27 | [1.15 1.39]     |            0.5  |\n",
      "|       0.2 |       0.8 |         1.03 | [1.   1.06]     |            0.05 |\n",
      "|       0.5 |       0.2 |       169.14 | [145.14 193.14] |           18.15 |\n",
      "|       0.5 |       0.5 |         3.33 | [2.27 4.39]     |            3.13 |\n",
      "|       0.5 |       0.8 |         1.47 | [1.16 1.78]     |            0.6  |\n",
      "|       0.8 |       0.2 |       353.44 | [317.49 389.39] |           13.19 |\n",
      "|       0.8 |       0.5 |        37.1  | [28.18 46.02]   |            8.89 |\n",
      "|       0.8 |       0.8 |         3.13 | [2.28 3.98]     |            1.75 |\n"
     ]
    }
   ],
   "source": [
    "print(tabulate(statistics[1:,], headers=[\"S --> I\",\"I --> R\", \"I max mean\", \"CI\",  \"time at I max\"], tablefmt='orgtbl'))"
   ]
  },
  {
   "cell_type": "markdown",
   "metadata": {},
   "source": [
    "As can be seen from the results above, the largest mean of infected is obtained when the probability of going from S to I is relatively high (0.5 or 0.8) and the probability of recovering (0.2) is low. This is realistic, as these scenarios will result in a lot of infected people for a long time, and few people recovering. This means that the infected people have a longer infectious period. "
   ]
  },
  {
   "cell_type": "code",
   "execution_count": 77,
   "metadata": {},
   "outputs": [
    {
     "data": {
      "text/plain": [
       "0"
      ]
     },
     "execution_count": 77,
     "metadata": {},
     "output_type": "execute_result"
    }
   ],
   "source": [
    "np.argmax([100,3,4])"
   ]
  },
  {
   "cell_type": "code",
   "execution_count": null,
   "metadata": {},
   "outputs": [],
   "source": []
  }
 ],
 "metadata": {
  "kernelspec": {
   "display_name": "Python 3",
   "language": "python",
   "name": "python3"
  },
  "language_info": {
   "codemirror_mode": {
    "name": "ipython",
    "version": 3
   },
   "file_extension": ".py",
   "mimetype": "text/x-python",
   "name": "python",
   "nbconvert_exporter": "python",
   "pygments_lexer": "ipython3",
   "version": "3.8.5"
  }
 },
 "nbformat": 4,
 "nbformat_minor": 4
}
