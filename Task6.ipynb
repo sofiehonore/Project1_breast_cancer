{
 "cells": [
  {
   "cell_type": "markdown",
   "metadata": {},
   "source": [
    "# Assumption Underlying the Discrete Time Markov Chain Model"
   ]
  },
  {
   "cell_type": "markdown",
   "metadata": {},
   "source": [
    "One key assumption underlying the Discrete Time Markov Chain Model (DTMC) is that the current variable depends only on the previous variable, a so called one step memory:\n",
    "\n",
    "$P(X_{n+1} = j|X_{n} = i_{0},..., X_{0} = i) = P(X_{n+1} = j|P(X_{n} = i)$\n",
    "\n",
    "It could be argued whether this is realistic in the case of cancer development, as the prognosis may depend on the history of the patient, response on previous treatment etc., and not just the current status. \n",
    "\n",
    "Another assumption regarding the DTMC is that the transition steps don't depend on the time point when it happens: \n",
    "\n",
    "$P(X_{n+1}=j|X_{n} = i)$ is the same for all $n = 0,1,2,..$\n",
    "\n",
    "Studies suggest, that in reality the probability of recurrence for different cancers decreases with time, i.e. the longer one has lived post cancer without recurrence, the lower the risk is of recurrence. As the probability does not change with time, this is not taken into account in a Markov Chain model. Furthermore age may also play a role in cancer developement which is not taken into account either. A way to relax these assumptions is to decrease the probability of transition depending on how long an individual has been in a specific state, however this would increase the model complexity substantially. \n",
    "\n",
    "Furthermore in this specific case, the simulation ends when all patients have reached state 5 (i.e. death). As this is based on probabilities, some patients might live unrealistically long according to the simulation. This could be changed relatively simple by drawing from a lifetime distribution, forcing individuals to enter the 5th state when appropriate time has passed. \n",
    "\n",
    "As the model is discrete in both time and also in state-space, we only consider the status (1,2,3,4 or 5) every one month, which might be unrealistic, as it might be possible to go through several consitions in a month. This also means that it is not possible to follow the speed by which the cancer develops. \n",
    "\n"
   ]
  }
 ],
 "metadata": {
  "kernelspec": {
   "display_name": "Python 3",
   "language": "python",
   "name": "python3"
  },
  "language_info": {
   "codemirror_mode": {
    "name": "ipython",
    "version": 3
   },
   "file_extension": ".py",
   "mimetype": "text/x-python",
   "name": "python",
   "nbconvert_exporter": "python",
   "pygments_lexer": "ipython3",
   "version": "3.8.8"
  }
 },
 "nbformat": 4,
 "nbformat_minor": 4
}
