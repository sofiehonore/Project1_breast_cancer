{
 "cells": [
  {
   "cell_type": "markdown",
   "metadata": {},
   "source": [
    "# Discrete Time Model Simulating Breast Cancer States"
   ]
  },
  {
   "cell_type": "markdown",
   "metadata": {},
   "source": [
    "## Expected lifetime after surgery\n",
    "Here we rejected the women who had eiter: \n",
    "\n",
    "1) Exceeded a lifetime of 12 months, but were still in state 1\n",
    "\n",
    "2) Died (i.e. reached state 5) before exceeding a lifetime of 12 months \n",
    "\n",
    "The resulting lifetime distribution is plotted below with the mean."
   ]
  },
  {
   "cell_type": "code",
   "execution_count": 13,
   "metadata": {},
   "outputs": [],
   "source": [
    "# Initialization\n",
    "import numpy as np\n",
    "import matplotlib.pyplot as plt\n",
    "import scipy.stats as stats\n"
   ]
  },
  {
   "cell_type": "code",
   "execution_count": 17,
   "metadata": {},
   "outputs": [
    {
     "data": {
      "image/png": "[encoded data removed]",
      "text/plain": [
       "<Figure size 432x288 with 1 Axes>"
      ]
     },
     "metadata": {
      "needs_background": "light"
     },
     "output_type": "display_data"
    },
    {
     "name": "stdout",
     "output_type": "stream",
     "text": [
      "Mean of lifetime after surgery with reappearance:  177.184\n"
     ]
    }
   ],
   "source": [
    "P = np.array([[0.9915, 0.005, 0.0025, 0, 0.001],\n",
    "              [0, 0.986, 0.005, 0.004, 0.005], \n",
    "              [0, 0, 0.992, 0.003, 0.005],\n",
    "              [0, 0, 0, 0.991, 0.009],\n",
    "              [0, 0, 0, 0, 1]])\n",
    "\n",
    "max_state = 5\n",
    "n_women = 1000\n",
    "women_states = np.ones(n_women)\n",
    "lifetime = np.zeros(n_women)\n",
    "states = np.arange(1,max_state+1)\n",
    "\n",
    "# Run until max_state is reached for all individuals\n",
    "while np.min(women_states) < max_state:  # And len(women_who_meet_req) < 1000\n",
    "    \n",
    "    # Make temporary vector with women's states\n",
    "    new_women_states = women_states\n",
    "    \n",
    "    # Update states\n",
    "    for i in range(1, int(np.max(women_states)) + 1):\n",
    "        index_state = np.where(women_states == i)[0]\n",
    "        new_women_states[index_state] = np.random.choice(states, size = len(index_state), p = P[i-1,:])\n",
    "    women_states = new_women_states\n",
    "    \n",
    "    # Update liftime\n",
    "    index_lifetime = np.where(women_states < max_state)[0]\n",
    "    lifetime[index_lifetime] += 1\n",
    "    \n",
    "    # Index which women must be rejected\n",
    "    index_reject_died = np.where((women_states == max_state) & (lifetime <= 12))[0]\n",
    "    index_reject_no_rep = np.where((lifetime > 12) & (women_states < 2))[0]\n",
    "    \n",
    "    # Reset these women\n",
    "    index_reject = np.sort(np.concatenate([index_reject_died, index_reject_no_rep]))\n",
    "    women_states[index_reject] = 1\n",
    "    lifetime[index_reject] = 0\n",
    "    \n",
    "    # Debug\n",
    "    #if len(index_reject) > 0:\n",
    "    #    print(\"Rejection index: \", index_reject)\n",
    "    #print(\"State:\\t\\t\", women_states, )\n",
    "    #print(\"Lifetime:\\t\",lifetime)\n",
    "    \n",
    "# Plot in histogram to see distribution, with mean\n",
    "plt.figure()\n",
    "plt.hist(lifetime, bins=200)\n",
    "plt.axvline(np.mean(lifetime), color='red', linestyle='dashed', linewidth=1, label=\"Mean\")\n",
    "plt.legend()\n",
    "plt.show()\n",
    "\n",
    "# Print mean\n",
    "print(\"Mean of lifetime after surgery with reappearance: \", np.mean(lifetime))"
   ]
  },
  {
   "cell_type": "markdown",
   "metadata": {},
   "source": [
    "Here it can be seen, that the frequencies of lifetimes (above 12 months with reappearance within a year) looks more to be from an exponential distribution with the highest frequencies for the lowest lifetimes. This differs from the phase-type distribution of the general lifetimes seen in the first task, where the shortest lifetimes were not the most frequent. This difference makes sense, as one of the criteria for acceptance in this task is that the breast cancer must have reappeared within 12 months, meaning that we discard all the women who just stay in state 1. It seems reasonable that these state-1-women in many cases would live longer than women for which the cancer reappeared within a year as the latter will have a more progressed disease. By rejecting these women, we may lose this \"block\" of longer lifetimes. On the other hand, one could expect that we would have a decrease in the frequency of low lifetimes, as we also discard the women who die within 12 months. However, we don't see a remarkable \"loss of short lifetimes\", indicating that we originally didn't have that many women who died within these 12 months. "
   ]
  }
 ],
 "metadata": {
  "kernelspec": {
   "display_name": "Python 3",
   "language": "python",
   "name": "python3"
  },
  "language_info": {
   "codemirror_mode": {
    "name": "ipython",
    "version": 3
   },
   "file_extension": ".py",
   "mimetype": "text/x-python",
   "name": "python",
   "nbconvert_exporter": "python",
   "pygments_lexer": "ipython3",
   "version": "3.7.1"
  }
 },
 "nbformat": 4,
 "nbformat_minor": 4
}
