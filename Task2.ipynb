{
 "cells": [
  {
   "cell_type": "markdown",
   "id": "78270f22",
   "metadata": {},
   "source": [
    "# Distribution of States at t = 120"
   ]
  },
  {
   "cell_type": "code",
   "execution_count": 65,
   "id": "4d74cd0f",
   "metadata": {},
   "outputs": [],
   "source": [
    "# Initialization\n",
    "import numpy as np\n",
    "import matplotlib.pyplot as plt\n",
    "import scipy.stats as stats\n",
    "from numpy.linalg import matrix_power"
   ]
  },
  {
   "cell_type": "markdown",
   "id": "e9b1d0ee",
   "metadata": {},
   "source": [
    "In this task, we want to check whether the state distribution at t = 120 from our simulation is consistent with what we expect. \n",
    "First, we find the state distribution in our simulation at t = 120: "
   ]
  },
  {
   "cell_type": "code",
   "execution_count": 36,
   "id": "9b020926",
   "metadata": {},
   "outputs": [],
   "source": [
    "P = np.array([[0.9915, 0.005, 0.0025, 0, 0.001],\n",
    "              [0, 0.986, 0.005, 0.004, 0.005], \n",
    "              [0, 0, 0.992, 0.003, 0.005],\n",
    "              [0, 0, 0, 0.991, 0.009],\n",
    "              [0, 0, 0, 0, 1]])\n",
    "\n",
    "max_state = 5\n",
    "n_women = 1000\n",
    "women_states = np.ones(n_women)\n",
    "women_states_initial = np.copy(women_states)\n",
    "lifetime = np.zeros(n_women)\n",
    "states = np.arange(1,max_state+1)\n",
    "states_120 = np.array([])\n",
    "\n",
    "# Run until max_state is reached for all individuals\n",
    "while np.min(women_states) < max_state:\n",
    "    \n",
    "    # Make temporary vector with women's states\n",
    "    new_women_states = women_states\n",
    "    \n",
    "    # Update states\n",
    "    for i in range(1, int(np.max(women_states)) + 1):\n",
    "        index_state = np.where(women_states == i)[0]\n",
    "        new_women_states[index_state] = np.random.choice(states, size = len(index_state), p = P[i-1,:])\n",
    "    women_states = new_women_states\n",
    "    \n",
    "    # Update liftime\n",
    "    index_lifetime = np.where(women_states < max_state)[0]\n",
    "    lifetime[index_lifetime] += 1\n",
    "    \n",
    "    # Save distribution of states at t = 120\n",
    "    if max(lifetime) == 120:\n",
    "        states_120 = np.copy(women_states)\n",
    "    \n",
    "    #print(\"State:\\t\\t\", women_states, )\n",
    "    #print(\"Lifetime:\\t\",lifetime)\n",
    "    #print(\"\\n\")"
   ]
  },
  {
   "cell_type": "markdown",
   "id": "48924294",
   "metadata": {},
   "source": [
    "The probability distribution for the five states at t = 120 is then:"
   ]
  },
  {
   "cell_type": "code",
   "execution_count": 57,
   "id": "073b9fd6",
   "metadata": {},
   "outputs": [
    {
     "name": "stdout",
     "output_type": "stream",
     "text": [
      "[0.353 0.169 0.153 0.068 0.257]\n"
     ]
    }
   ],
   "source": [
    "probability_120 = np.histogram(states_120, bins = 5)[0] / len(states_120)\n",
    "print(probability_120)"
   ]
  },
  {
   "cell_type": "markdown",
   "id": "d9dc6224",
   "metadata": {},
   "source": [
    "We will compare this probability distribution with the expected distribution at time t which can be calculated by this formula: \n",
    "$$p_t = p_0*(P^{t})$$\n",
    "for t = 120.\n",
    "\n",
    "In this case, $p_0 = [1,0,0,0,0]$ as all our women start in state 1. \n",
    "\n",
    "So, the expected probability distribution at time $t = 120$ is"
   ]
  },
  {
   "cell_type": "code",
   "execution_count": 67,
   "id": "619c807a",
   "metadata": {},
   "outputs": [
    {
     "name": "stdout",
     "output_type": "stream",
     "text": [
      "[0.35902627 0.15895604 0.1660869  0.06774149 0.2481893 ]\n"
     ]
    }
   ],
   "source": [
    "p0 = np.array([1, 0, 0, 0, 0])\n",
    "p_120 = np.dot(p0, matrix_power(P, 120))\n",
    "print(p_120)"
   ]
  },
  {
   "cell_type": "markdown",
   "id": "140a1a3c",
   "metadata": {},
   "source": [
    "We will compare the two probability distributions via a chisquare-test. "
   ]
  },
  {
   "cell_type": "code",
   "execution_count": 68,
   "id": "a988e61b",
   "metadata": {},
   "outputs": [
    {
     "data": {
      "text/plain": [
       "Power_divergenceResult(statistic=0.002080753096402093, pvalue=0.9999994591835346)"
      ]
     },
     "execution_count": 68,
     "metadata": {},
     "output_type": "execute_result"
    }
   ],
   "source": [
    "stats.chisquare(probability_120, p_120)"
   ]
  },
  {
   "cell_type": "markdown",
   "id": "ac566f19",
   "metadata": {},
   "source": [
    "When comparing our observed probabilities with the expected ones, we get a p-value of 1. This means that we can not reject the nulhypothesis that the two probability distributions are identicical. So, our observed probability distribution after 120 corresponds to what we would expect. "
   ]
  }
 ],
 "metadata": {
  "kernelspec": {
   "display_name": "Python 3",
   "language": "python",
   "name": "python3"
  },
  "language_info": {
   "codemirror_mode": {
    "name": "ipython",
    "version": 3
   },
   "file_extension": ".py",
   "mimetype": "text/x-python",
   "name": "python",
   "nbconvert_exporter": "python",
   "pygments_lexer": "ipython3",
   "version": "3.8.8"
  }
 },
 "nbformat": 4,
 "nbformat_minor": 5
}
