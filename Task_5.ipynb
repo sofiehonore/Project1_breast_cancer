{
 "cells": [
  {
   "cell_type": "markdown",
   "metadata": {},
   "source": [
    "# Description"
   ]
  },
  {
   "cell_type": "markdown",
   "metadata": {},
   "source": [
    "We now investigate how many women are likely to die within the first 350 months. This is done simulating 200 women for 350 iterations 100 times. Each time, the fraction of dead women (how many women are in stage 5?) is saved in a vector. Below is the main code and a histogram of the fractions and the variance of dead fractions. "
   ]
  },
  {
   "cell_type": "code",
   "execution_count": 4,
   "metadata": {},
   "outputs": [],
   "source": [
    "# Initialization\n",
    "import numpy as np\n",
    "import matplotlib.pyplot as plt\n",
    "import scipy.stats as stats"
   ]
  },
  {
   "cell_type": "code",
   "execution_count": 17,
   "metadata": {},
   "outputs": [
    {
     "data": {
      "image/png": "[encoded data removed]",
      "text/plain": [
       "<Figure size 432x288 with 1 Axes>"
      ]
     },
     "metadata": {
      "needs_background": "light"
     },
     "output_type": "display_data"
    },
    {
     "name": "stdout",
     "output_type": "stream",
     "text": [
      "Mean dead fraction after 350 months: 0.7409\n",
      "Variance of dead fraction after 350 months: 0.0009866900000000008\n"
     ]
    }
   ],
   "source": [
    "P = np.array([[0.9915, 0.005, 0.0025, 0, 0.001],\n",
    "              [0, 0.986, 0.005, 0.004, 0.005], \n",
    "              [0, 0, 0.992, 0.003, 0.005],\n",
    "              [0, 0, 0, 0.991, 0.009],\n",
    "              [0, 0, 0, 0, 1]])\n",
    "\n",
    "max_state = 5\n",
    "n_women = 200      #### Changed from task 1\n",
    "states = np.arange(1,max_state+1)\n",
    "\n",
    "#### NEW FOR TASK 5 #####\n",
    "simulations = 100\n",
    "simulated_months = 350\n",
    "dead_fraction_350 = np.zeros(simulations)\n",
    "lifetime_mean_350 = np.zeros(simulations)\n",
    "#########################\n",
    "\n",
    "for r in range(simulations): ####\n",
    "    women_states = np.ones(n_women)   ####    \n",
    "    lifetime = np.zeros(n_women)      ####\n",
    "    \n",
    "    # Run until max_state is reached for all individuals\n",
    "    #while np.min(women_states) < max_state:\n",
    "    for m in range(simulated_months): ####\n",
    "\n",
    "        # Make temporary vector with women's states\n",
    "        new_women_states = women_states\n",
    "\n",
    "        # Update states\n",
    "        for i in range(1, int(np.max(women_states)) + 1):\n",
    "            index_state = np.where(women_states == i)[0]\n",
    "            new_women_states[index_state] = np.random.choice(states, size = len(index_state), p = P[i-1,:])\n",
    "        women_states = new_women_states\n",
    "\n",
    "        # Update liftime\n",
    "        index_lifetime = np.where(women_states < max_state)[0]\n",
    "        lifetime[index_lifetime] += 1\n",
    "\n",
    "        #print(\"State:\\t\\t\", women_states, )\n",
    "        #print(\"Lifetime:\\t\",lifetime)\n",
    "        #print(\"\\n\")\n",
    "        \n",
    "    # Record dead fraction and lifetime means\n",
    "    dead_fraction_350[r] = len(women_states[women_states == max_state])/n_women ####\n",
    "    lifetime_mean_350[r] = np.mean(lifetime)\n",
    "    \n",
    "# Histogram of dead fractions\n",
    "plt.hist(dead_fraction_350, bins = 10)\n",
    "plt.xlabel('Fraction')\n",
    "plt.ylabel('Frequency')\n",
    "plt.show()\n",
    "\n",
    "# Variance\n",
    "variance_dead = np.var(dead_fraction_350)\n",
    "print('Mean dead fraction after 350 months:', np.mean(dead_fraction_350))\n",
    "print('Variance of dead fraction after 350 months:', np.var(dead_fraction_350))"
   ]
  },
  {
   "cell_type": "markdown",
   "metadata": {},
   "source": [
    "We now try to reduce this variance by using mean lifetime after surgery as a control variate. Lifetime mean is distributed as shown below:"
   ]
  },
  {
   "cell_type": "code",
   "execution_count": 13,
   "metadata": {},
   "outputs": [
    {
     "data": {
      "image/png": "[encoded data removed]",
      "text/plain": [
       "<Figure size 432x288 with 1 Axes>"
      ]
     },
     "metadata": {
      "needs_background": "light"
     },
     "output_type": "display_data"
    }
   ],
   "source": [
    "# Histogram of dead fractions\n",
    "plt.hist(lifetime_mean_350, bins = 10)\n",
    "plt.xlabel('Mean')\n",
    "plt.ylabel('Frequency')\n",
    "plt.show()"
   ]
  },
  {
   "cell_type": "markdown",
   "metadata": {},
   "source": [
    "When using the lifetime mean as control variate, we first calculate c as\n",
    "\n",
    "$$ c = \\frac{-Cov(X,Y)}{Var(Y)} $$\n",
    "\n",
    "and then compute a variable Z as\n",
    "\n",
    "$$ Z_i = X_i + c*(Y_i - \\sum_{i=1}^{n} \\frac{Y_i}{n})$$\n",
    "\n",
    "where X is the original variable and Y the control variable. We can then compute the variance and confidence intervals of the new variable Z. This is shown below."
   ]
  },
  {
   "cell_type": "code",
   "execution_count": 19,
   "metadata": {},
   "outputs": [
    {
     "name": "stdout",
     "output_type": "stream",
     "text": [
      "Mean of Z: 0.7409\n",
      "Variance of Z: 0.00038808820616955466\n",
      "CI: [0.7388289623707265:0.7429710376292735]\n"
     ]
    }
   ],
   "source": [
    "c = - np.cov(dead_fraction_350, lifetime_mean_350)[0,1] / np.var(lifetime_mean_350)\n",
    "Z = dead_fraction_350 + c * (lifetime_mean_350 - np.mean(lifetime_mean_350))\n",
    "\n",
    "Z_mean = np.mean(Z)\n",
    "Z_var = np.var(Z)\n",
    "\n",
    "CI_lower = Z_mean + np.sqrt(Z_var)/np.sqrt(simulated_months) * stats.t.ppf(0.05/2, df =simulated_months-1)\n",
    "CI_upper = Z_mean + np.sqrt(Z_var)/np.sqrt(simulated_months) * stats.t.ppf(1-0.05/2, df = simulated_months-1)\n",
    "\n",
    "print('Mean of Z:', Z_mean)\n",
    "print('Variance of Z:', Z_var)\n",
    "print('CI: [', CI_lower, ':', CI_upper, ']', sep = '')"
   ]
  },
  {
   "cell_type": "markdown",
   "metadata": {},
   "source": [
    "The reduction in can be computed as $$ Variance reduction = \\frac{Var(Z)-Var(X)}{Var(X)}$$"
   ]
  },
  {
   "cell_type": "code",
   "execution_count": 20,
   "metadata": {},
   "outputs": [
    {
     "name": "stdout",
     "output_type": "stream",
     "text": [
      "-0.6066766601774068\n"
     ]
    }
   ],
   "source": [
    "print((Z_var - variance_dead)/variance_dead)"
   ]
  },
  {
   "cell_type": "markdown",
   "metadata": {},
   "source": [
    "Thereby, using the mean lifetime after surgery as a control variate reduces the variance of the estimate of the fraction of women who die within 350 months by:"
   ]
  },
  {
   "cell_type": "code",
   "execution_count": 24,
   "metadata": {},
   "outputs": [
    {
     "name": "stdout",
     "output_type": "stream",
     "text": [
      "60.67 %\n"
     ]
    }
   ],
   "source": [
    "print(\"{:.2f} %\".format(abs(((Z_var - variance_dead)/variance_dead)*100)))"
   ]
  }
 ],
 "metadata": {
  "kernelspec": {
   "display_name": "Python 3",
   "language": "python",
   "name": "python3"
  },
  "language_info": {
   "codemirror_mode": {
    "name": "ipython",
    "version": 3
   },
   "file_extension": ".py",
   "mimetype": "text/x-python",
   "name": "python",
   "nbconvert_exporter": "python",
   "pygments_lexer": "ipython3",
   "version": "3.6.9"
  }
 },
 "nbformat": 4,
 "nbformat_minor": 2
}
